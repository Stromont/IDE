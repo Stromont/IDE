{
 "cells": [
  {
   "cell_type": "markdown",
   "id": "f1709b3c",
   "metadata": {},
   "source": [
    "## Постановка задачи\n",
    "\n",
    "HR-агентство изучает тренды на рынке труда в IT. Компания хочет провести исследование на основе данных о зарплатах в сфере Data Science за 2020–2022 годы и получить некоторые выводы.\n",
    "\n",
    "ключевые вопросы HR-агентства:\n",
    "\n",
    "    Наблюдается ли ежегодный рост зарплат у специалистов Data Scientist?\n",
    "    Как соотносятся зарплаты Data Scientist и Data Engineer в 2022 году?\n",
    "    Как соотносятся зарплаты специалистов Data Scientist в компаниях различных размеров?\n",
    "    Есть ли связь между наличием должностей Data Scientist и Data Engineer и размером компании?\n",
    "\n",
    "\n",
    "На каждый вопрос необходимо ответить с уровнем значимости $\\alpha=0.05$."
   ]
  },
  {
   "cell_type": "code",
   "execution_count": 338,
   "id": "4f81f4ec",
   "metadata": {},
   "outputs": [],
   "source": [
    "# загружаем необходимые библиотеки\n",
    "import pandas as pd\n",
    "import numpy as np\n",
    "\n",
    "from scipy import stats\n",
    "import statsmodels.api as sm\n",
    "from statsmodels import stats as sms\n",
    "from statsmodels.stats.descriptivestats import sign_test\n",
    "\n",
    "import matplotlib.pyplot as plt\n",
    "import seaborn as sns\n",
    "\n",
    "\n",
    "# делаем визуальную настройку графиков\n",
    "sns.set_theme(\"notebook\") \n",
    "sns.set_palette(\"Set2\") "
   ]
  },
  {
   "cell_type": "code",
   "execution_count": 339,
   "id": "0861d8f1",
   "metadata": {},
   "outputs": [
    {
     "data": {
      "text/html": [
       "<div>\n",
       "<style scoped>\n",
       "    .dataframe tbody tr th:only-of-type {\n",
       "        vertical-align: middle;\n",
       "    }\n",
       "\n",
       "    .dataframe tbody tr th {\n",
       "        vertical-align: top;\n",
       "    }\n",
       "\n",
       "    .dataframe thead th {\n",
       "        text-align: right;\n",
       "    }\n",
       "</style>\n",
       "<table border=\"1\" class=\"dataframe\">\n",
       "  <thead>\n",
       "    <tr style=\"text-align: right;\">\n",
       "      <th></th>\n",
       "      <th>work_year</th>\n",
       "      <th>experience_level</th>\n",
       "      <th>employment_type</th>\n",
       "      <th>job_title</th>\n",
       "      <th>salary</th>\n",
       "      <th>salary_currency</th>\n",
       "      <th>salary_in_usd</th>\n",
       "      <th>employee_residence</th>\n",
       "      <th>remote_ratio</th>\n",
       "      <th>company_location</th>\n",
       "      <th>company_size</th>\n",
       "    </tr>\n",
       "  </thead>\n",
       "  <tbody>\n",
       "    <tr>\n",
       "      <th>0</th>\n",
       "      <td>2020</td>\n",
       "      <td>MI</td>\n",
       "      <td>FT</td>\n",
       "      <td>Data Scientist</td>\n",
       "      <td>70000</td>\n",
       "      <td>EUR</td>\n",
       "      <td>79833</td>\n",
       "      <td>DE</td>\n",
       "      <td>0</td>\n",
       "      <td>DE</td>\n",
       "      <td>L</td>\n",
       "    </tr>\n",
       "    <tr>\n",
       "      <th>1</th>\n",
       "      <td>2020</td>\n",
       "      <td>SE</td>\n",
       "      <td>FT</td>\n",
       "      <td>Machine Learning Scientist</td>\n",
       "      <td>260000</td>\n",
       "      <td>USD</td>\n",
       "      <td>260000</td>\n",
       "      <td>JP</td>\n",
       "      <td>0</td>\n",
       "      <td>JP</td>\n",
       "      <td>S</td>\n",
       "    </tr>\n",
       "    <tr>\n",
       "      <th>2</th>\n",
       "      <td>2020</td>\n",
       "      <td>SE</td>\n",
       "      <td>FT</td>\n",
       "      <td>Big Data Engineer</td>\n",
       "      <td>85000</td>\n",
       "      <td>GBP</td>\n",
       "      <td>109024</td>\n",
       "      <td>GB</td>\n",
       "      <td>50</td>\n",
       "      <td>GB</td>\n",
       "      <td>M</td>\n",
       "    </tr>\n",
       "    <tr>\n",
       "      <th>3</th>\n",
       "      <td>2020</td>\n",
       "      <td>MI</td>\n",
       "      <td>FT</td>\n",
       "      <td>Product Data Analyst</td>\n",
       "      <td>20000</td>\n",
       "      <td>USD</td>\n",
       "      <td>20000</td>\n",
       "      <td>HN</td>\n",
       "      <td>0</td>\n",
       "      <td>HN</td>\n",
       "      <td>S</td>\n",
       "    </tr>\n",
       "    <tr>\n",
       "      <th>4</th>\n",
       "      <td>2020</td>\n",
       "      <td>SE</td>\n",
       "      <td>FT</td>\n",
       "      <td>Machine Learning Engineer</td>\n",
       "      <td>150000</td>\n",
       "      <td>USD</td>\n",
       "      <td>150000</td>\n",
       "      <td>US</td>\n",
       "      <td>50</td>\n",
       "      <td>US</td>\n",
       "      <td>L</td>\n",
       "    </tr>\n",
       "  </tbody>\n",
       "</table>\n",
       "</div>"
      ],
      "text/plain": [
       "   work_year experience_level employment_type                   job_title  \\\n",
       "0       2020               MI              FT              Data Scientist   \n",
       "1       2020               SE              FT  Machine Learning Scientist   \n",
       "2       2020               SE              FT           Big Data Engineer   \n",
       "3       2020               MI              FT        Product Data Analyst   \n",
       "4       2020               SE              FT   Machine Learning Engineer   \n",
       "\n",
       "   salary salary_currency  salary_in_usd employee_residence  remote_ratio  \\\n",
       "0   70000             EUR          79833                 DE             0   \n",
       "1  260000             USD         260000                 JP             0   \n",
       "2   85000             GBP         109024                 GB            50   \n",
       "3   20000             USD          20000                 HN             0   \n",
       "4  150000             USD         150000                 US            50   \n",
       "\n",
       "  company_location company_size  \n",
       "0               DE            L  \n",
       "1               JP            S  \n",
       "2               GB            M  \n",
       "3               HN            S  \n",
       "4               US            L  "
      ]
     },
     "execution_count": 339,
     "metadata": {},
     "output_type": "execute_result"
    }
   ],
   "source": [
    "# загружаем датасет\n",
    "data = pd.read_csv('ds_salaries.csv', index_col=0)\n",
    "data.head()"
   ]
  },
  {
   "cell_type": "code",
   "execution_count": 340,
   "id": "0d435658",
   "metadata": {},
   "outputs": [
    {
     "data": {
      "text/html": [
       "<div>\n",
       "<style scoped>\n",
       "    .dataframe tbody tr th:only-of-type {\n",
       "        vertical-align: middle;\n",
       "    }\n",
       "\n",
       "    .dataframe tbody tr th {\n",
       "        vertical-align: top;\n",
       "    }\n",
       "\n",
       "    .dataframe thead th {\n",
       "        text-align: right;\n",
       "    }\n",
       "</style>\n",
       "<table border=\"1\" class=\"dataframe\">\n",
       "  <thead>\n",
       "    <tr style=\"text-align: right;\">\n",
       "      <th></th>\n",
       "      <th>work_year</th>\n",
       "      <th>experience_level</th>\n",
       "      <th>employment_type</th>\n",
       "      <th>job_title</th>\n",
       "      <th>salary_in_usd</th>\n",
       "      <th>employee_residence</th>\n",
       "      <th>remote_ratio</th>\n",
       "      <th>company_location</th>\n",
       "      <th>company_size</th>\n",
       "    </tr>\n",
       "  </thead>\n",
       "  <tbody>\n",
       "    <tr>\n",
       "      <th>0</th>\n",
       "      <td>2020</td>\n",
       "      <td>MI</td>\n",
       "      <td>FT</td>\n",
       "      <td>Data Scientist</td>\n",
       "      <td>79833</td>\n",
       "      <td>DE</td>\n",
       "      <td>0</td>\n",
       "      <td>DE</td>\n",
       "      <td>L</td>\n",
       "    </tr>\n",
       "    <tr>\n",
       "      <th>1</th>\n",
       "      <td>2020</td>\n",
       "      <td>SE</td>\n",
       "      <td>FT</td>\n",
       "      <td>Machine Learning Scientist</td>\n",
       "      <td>260000</td>\n",
       "      <td>JP</td>\n",
       "      <td>0</td>\n",
       "      <td>JP</td>\n",
       "      <td>S</td>\n",
       "    </tr>\n",
       "    <tr>\n",
       "      <th>2</th>\n",
       "      <td>2020</td>\n",
       "      <td>SE</td>\n",
       "      <td>FT</td>\n",
       "      <td>Big Data Engineer</td>\n",
       "      <td>109024</td>\n",
       "      <td>GB</td>\n",
       "      <td>50</td>\n",
       "      <td>GB</td>\n",
       "      <td>M</td>\n",
       "    </tr>\n",
       "    <tr>\n",
       "      <th>3</th>\n",
       "      <td>2020</td>\n",
       "      <td>MI</td>\n",
       "      <td>FT</td>\n",
       "      <td>Product Data Analyst</td>\n",
       "      <td>20000</td>\n",
       "      <td>HN</td>\n",
       "      <td>0</td>\n",
       "      <td>HN</td>\n",
       "      <td>S</td>\n",
       "    </tr>\n",
       "    <tr>\n",
       "      <th>4</th>\n",
       "      <td>2020</td>\n",
       "      <td>SE</td>\n",
       "      <td>FT</td>\n",
       "      <td>Machine Learning Engineer</td>\n",
       "      <td>150000</td>\n",
       "      <td>US</td>\n",
       "      <td>50</td>\n",
       "      <td>US</td>\n",
       "      <td>L</td>\n",
       "    </tr>\n",
       "  </tbody>\n",
       "</table>\n",
       "</div>"
      ],
      "text/plain": [
       "   work_year experience_level employment_type                   job_title  \\\n",
       "0       2020               MI              FT              Data Scientist   \n",
       "1       2020               SE              FT  Machine Learning Scientist   \n",
       "2       2020               SE              FT           Big Data Engineer   \n",
       "3       2020               MI              FT        Product Data Analyst   \n",
       "4       2020               SE              FT   Machine Learning Engineer   \n",
       "\n",
       "   salary_in_usd employee_residence  remote_ratio company_location  \\\n",
       "0          79833                 DE             0               DE   \n",
       "1         260000                 JP             0               JP   \n",
       "2         109024                 GB            50               GB   \n",
       "3          20000                 HN             0               HN   \n",
       "4         150000                 US            50               US   \n",
       "\n",
       "  company_size  \n",
       "0            L  \n",
       "1            S  \n",
       "2            M  \n",
       "3            S  \n",
       "4            L  "
      ]
     },
     "execution_count": 340,
     "metadata": {},
     "output_type": "execute_result"
    }
   ],
   "source": [
    "#Удаляем неиформатиные стобцы\n",
    "data = data.drop(columns=['salary', 'salary_currency'], inplace=False)\n",
    "data.head()"
   ]
  },
  {
   "cell_type": "markdown",
   "id": "2cacd05c",
   "metadata": {},
   "source": [
    "work_year \tГод, в котором была выплачена зарплата.\n",
    "\n",
    "experience_level \tОпыт работы на этой должности в течение года со следующими возможными значениями:\n",
    "\n",
    "        EN — Entry-level/Junior;\n",
    "        MI — Mid-level/Intermediate;\n",
    "        SE — Senior-level/Expert;\n",
    "        EX — Executive-level/Director.\n",
    "\n",
    "employment_type \tТип трудоустройства для этой роли:\n",
    "\n",
    "        PT — неполный рабочий день;\n",
    "        FT — полный рабочий день;\n",
    "        CT — контракт;\n",
    "        FL — фриланс.\n",
    "\n",
    "job_title \tРоль, в которой соискатель работал в течение года.\n",
    "\n",
    "salary_in_usd \tЗарплата в долларах США (валютный курс, делённый на среднее значение курса доллара США за соответствующий год через fxdata.foorilla.com).\n",
    "\n",
    "employee_residence \tОсновная страна проживания сотрудника в течение рабочего года в виде кода страны ISO 3166.\n",
    "\n",
    "remote_ratio \tОбщий объём работы, выполняемой удалённо. Возможные значения:\n",
    "\n",
    "        0 — удалённой работы нет (менее 20 %);\n",
    "        50 — частично удалённая работа;\n",
    "        100 — полностью удалённая работа (более 80 %).\n",
    "\n",
    "company_location \tСтрана главного офиса работодателя или филиала по контракту в виде кода страны ISO 3166.\n",
    "\n",
    "company_size \tСреднее количество людей, работавших в компании в течение года:\n",
    "\n",
    "        S — менее 50 сотрудников (небольшая компания);\n",
    "        M — от 50 до 250 сотрудников (средняя компания);\n",
    "        L — более 250 сотрудников (крупная компания).\n"
   ]
  },
  {
   "cell_type": "code",
   "execution_count": 341,
   "id": "76d64329",
   "metadata": {},
   "outputs": [
    {
     "name": "stderr",
     "output_type": "stream",
     "text": [
      "C:\\Users\\Stromont\\AppData\\Local\\Temp\\ipykernel_17952\\3128425604.py:2: FutureWarning:\n",
      "\n",
      "Downcasting behavior in `replace` is deprecated and will be removed in a future version. To retain the old behavior, explicitly call `result.infer_objects(copy=False)`. To opt-in to the future behavior, set `pd.set_option('future.no_silent_downcasting', True)`\n",
      "\n",
      "C:\\Users\\Stromont\\AppData\\Local\\Temp\\ipykernel_17952\\3128425604.py:3: FutureWarning:\n",
      "\n",
      "Downcasting behavior in `replace` is deprecated and will be removed in a future version. To retain the old behavior, explicitly call `result.infer_objects(copy=False)`. To opt-in to the future behavior, set `pd.set_option('future.no_silent_downcasting', True)`\n",
      "\n",
      "C:\\Users\\Stromont\\AppData\\Local\\Temp\\ipykernel_17952\\3128425604.py:5: FutureWarning:\n",
      "\n",
      "Downcasting behavior in `replace` is deprecated and will be removed in a future version. To retain the old behavior, explicitly call `result.infer_objects(copy=False)`. To opt-in to the future behavior, set `pd.set_option('future.no_silent_downcasting', True)`\n",
      "\n"
     ]
    }
   ],
   "source": [
    "# перевод категориального признака в количественный\n",
    "data['experience_level'] = data['experience_level'].replace([\"EN\", \"MI\", \"SE\", \"EX\"], [1, 2, 3, 4])\n",
    "data['employment_type'] = data['employment_type'].replace([\"PT\", \"FT\", \"CT\", \"FL\"], [1, 2, 3, 4])\n",
    "data['remote_ratio'] = data['remote_ratio'].replace([0, 50, 100], [1, 2, 3])\n",
    "data['company_size'] = data['company_size'].replace([\"S\", \"M\", \"L\"], [1, 2, 3])"
   ]
  },
  {
   "cell_type": "code",
   "execution_count": 342,
   "id": "f4700ded",
   "metadata": {},
   "outputs": [
    {
     "data": {
      "text/html": [
       "<div>\n",
       "<style scoped>\n",
       "    .dataframe tbody tr th:only-of-type {\n",
       "        vertical-align: middle;\n",
       "    }\n",
       "\n",
       "    .dataframe tbody tr th {\n",
       "        vertical-align: top;\n",
       "    }\n",
       "\n",
       "    .dataframe thead th {\n",
       "        text-align: right;\n",
       "    }\n",
       "</style>\n",
       "<table border=\"1\" class=\"dataframe\">\n",
       "  <thead>\n",
       "    <tr style=\"text-align: right;\">\n",
       "      <th></th>\n",
       "      <th>work_year</th>\n",
       "      <th>experience_level</th>\n",
       "      <th>employment_type</th>\n",
       "      <th>salary_in_usd</th>\n",
       "      <th>remote_ratio</th>\n",
       "      <th>company_size</th>\n",
       "    </tr>\n",
       "  </thead>\n",
       "  <tbody>\n",
       "    <tr>\n",
       "      <th>work_year</th>\n",
       "      <td>1.000000</td>\n",
       "      <td>0.294759</td>\n",
       "      <td>-0.012819</td>\n",
       "      <td>0.170493</td>\n",
       "      <td>0.076314</td>\n",
       "      <td>-0.078764</td>\n",
       "    </tr>\n",
       "    <tr>\n",
       "      <th>experience_level</th>\n",
       "      <td>0.294759</td>\n",
       "      <td>1.000000</td>\n",
       "      <td>0.081701</td>\n",
       "      <td>0.484233</td>\n",
       "      <td>0.097784</td>\n",
       "      <td>0.063511</td>\n",
       "    </tr>\n",
       "    <tr>\n",
       "      <th>employment_type</th>\n",
       "      <td>-0.012819</td>\n",
       "      <td>0.081701</td>\n",
       "      <td>1.000000</td>\n",
       "      <td>0.065747</td>\n",
       "      <td>0.015638</td>\n",
       "      <td>0.027133</td>\n",
       "    </tr>\n",
       "    <tr>\n",
       "      <th>salary_in_usd</th>\n",
       "      <td>0.170493</td>\n",
       "      <td>0.484233</td>\n",
       "      <td>0.065747</td>\n",
       "      <td>1.000000</td>\n",
       "      <td>0.132122</td>\n",
       "      <td>0.151205</td>\n",
       "    </tr>\n",
       "    <tr>\n",
       "      <th>remote_ratio</th>\n",
       "      <td>0.076314</td>\n",
       "      <td>0.097784</td>\n",
       "      <td>0.015638</td>\n",
       "      <td>0.132122</td>\n",
       "      <td>1.000000</td>\n",
       "      <td>-0.022070</td>\n",
       "    </tr>\n",
       "    <tr>\n",
       "      <th>company_size</th>\n",
       "      <td>-0.078764</td>\n",
       "      <td>0.063511</td>\n",
       "      <td>0.027133</td>\n",
       "      <td>0.151205</td>\n",
       "      <td>-0.022070</td>\n",
       "      <td>1.000000</td>\n",
       "    </tr>\n",
       "  </tbody>\n",
       "</table>\n",
       "</div>"
      ],
      "text/plain": [
       "                  work_year  experience_level  employment_type  salary_in_usd  \\\n",
       "work_year          1.000000          0.294759        -0.012819       0.170493   \n",
       "experience_level   0.294759          1.000000         0.081701       0.484233   \n",
       "employment_type   -0.012819          0.081701         1.000000       0.065747   \n",
       "salary_in_usd      0.170493          0.484233         0.065747       1.000000   \n",
       "remote_ratio       0.076314          0.097784         0.015638       0.132122   \n",
       "company_size      -0.078764          0.063511         0.027133       0.151205   \n",
       "\n",
       "                  remote_ratio  company_size  \n",
       "work_year             0.076314     -0.078764  \n",
       "experience_level      0.097784      0.063511  \n",
       "employment_type       0.015638      0.027133  \n",
       "salary_in_usd         0.132122      0.151205  \n",
       "remote_ratio          1.000000     -0.022070  \n",
       "company_size         -0.022070      1.000000  "
      ]
     },
     "execution_count": 342,
     "metadata": {},
     "output_type": "execute_result"
    }
   ],
   "source": [
    "corel = data.corr(numeric_only = True)\n",
    "corel"
   ]
  },
  {
   "cell_type": "markdown",
   "id": "882c6602",
   "metadata": {},
   "source": [
    "Чтобы проверить корреляционную связь между страной соискателя и страной фирмы можно использовать тест хи-квадрат"
   ]
  },
  {
   "cell_type": "code",
   "execution_count": 343,
   "id": "44922864",
   "metadata": {},
   "outputs": [
    {
     "name": "stdout",
     "output_type": "stream",
     "text": [
      "Уровень значимости alpha = 0.05\n"
     ]
    }
   ],
   "source": [
    "# задаём уровень значимости\n",
    "alpha = 0.05 \n",
    "print(\"Уровень значимости alpha = {:.2f}\".format(alpha))"
   ]
  },
  {
   "cell_type": "markdown",
   "id": "3c077433",
   "metadata": {},
   "source": [
    "### Зависимость переменных employee_residence и company_location\n",
    "\n",
    "\n",
    "**Сформулируем нулевую и альтернативные гипотезы**\n",
    "\n",
    "*Нулевая гипотеза* ($H_0$): переменная employee_residence($μ_1$) статистически не зависима от перменной company_location($μ_2$).\n",
    "\n",
    "*Альтернативная гипотеза* ($H_1$): переменная employee_residence($μ_1$) статистически зависима от перменной company_location($μ_2$)."
   ]
  },
  {
   "cell_type": "code",
   "execution_count": 344,
   "id": "dc23c97d",
   "metadata": {},
   "outputs": [
    {
     "name": "stdout",
     "output_type": "stream",
     "text": [
      "p-value = 0.000\n",
      "p-значение меньше, чем заданный уровень значимости 0.05. Отвергаем нулевую гипотезу.\n"
     ]
    }
   ],
   "source": [
    "table = pd.crosstab(data['employee_residence'], data['company_location'])\n",
    "\n",
    "# проводим тест\n",
    "_, p, _, _ = stats.chi2_contingency(table)\n",
    "\n",
    "print('p-value = {:.3f}'.format(p))\n",
    "\n",
    "# интерпретируем результат\n",
    "if p <= alpha:\n",
    "    print('p-значение меньше, чем заданный уровень значимости {:.2f}. Отвергаем нулевую гипотезу.'.format(alpha))\n",
    "else:\n",
    "    print('p-значение больше, чем заданный уровень значимости {:.2f}. У нас нет оснований отвергнуть нулевую гипотезу.'.format(alpha))\n"
   ]
  },
  {
   "cell_type": "markdown",
   "id": "99ad335d",
   "metadata": {},
   "source": [
    "Так как переменные employee_residence и company_location зависимы друг от друга, то можно одну из переменных убрать как статистически не значимую"
   ]
  },
  {
   "cell_type": "code",
   "execution_count": 345,
   "id": "f643e790",
   "metadata": {},
   "outputs": [],
   "source": [
    "data = data.drop(columns=['employee_residence'])"
   ]
  },
  {
   "cell_type": "markdown",
   "id": "d1906941",
   "metadata": {},
   "source": [
    "# Описательный анализ"
   ]
  },
  {
   "cell_type": "code",
   "execution_count": 346,
   "id": "426a3cdb",
   "metadata": {},
   "outputs": [
    {
     "name": "stdout",
     "output_type": "stream",
     "text": [
      "<class 'pandas.core.frame.DataFrame'>\n",
      "Index: 607 entries, 0 to 606\n",
      "Data columns (total 8 columns):\n",
      " #   Column            Non-Null Count  Dtype \n",
      "---  ------            --------------  ----- \n",
      " 0   work_year         607 non-null    int64 \n",
      " 1   experience_level  607 non-null    int64 \n",
      " 2   employment_type   607 non-null    int64 \n",
      " 3   job_title         607 non-null    object\n",
      " 4   salary_in_usd     607 non-null    int64 \n",
      " 5   remote_ratio      607 non-null    int64 \n",
      " 6   company_location  607 non-null    object\n",
      " 7   company_size      607 non-null    int64 \n",
      "dtypes: int64(6), object(2)\n",
      "memory usage: 42.7+ KB\n"
     ]
    }
   ],
   "source": [
    "data.info()"
   ]
  },
  {
   "cell_type": "markdown",
   "id": "e5c2b13b",
   "metadata": {},
   "source": [
    "В датасете 607 записей без пропусков, типы данных соответствуют данным"
   ]
  },
  {
   "cell_type": "code",
   "execution_count": 347,
   "id": "bb8d8fb1",
   "metadata": {},
   "outputs": [
    {
     "name": "stdout",
     "output_type": "stream",
     "text": [
      "Количество дубликатов: 42\n",
      "Размер таблицы после удаления дубликатов: (565, 8)\n"
     ]
    }
   ],
   "source": [
    "# Проверяем на дубликаты\n",
    "print('Количество дубликатов: {}'.format(data[data.duplicated()].shape[0]))\n",
    "\n",
    "# Удаляем дубликаты:\n",
    "data = data.drop_duplicates()\n",
    "print('Размер таблицы после удаления дубликатов: {}'.format(data.shape))"
   ]
  },
  {
   "cell_type": "code",
   "execution_count": 348,
   "id": "b28f8089",
   "metadata": {},
   "outputs": [
    {
     "data": {
      "image/png": "[encoded data removed]",
      "text/plain": [
       "<Figure size 1500x500 with 2 Axes>"
      ]
     },
     "metadata": {},
     "output_type": "display_data"
    }
   ],
   "source": [
    "fig, axes = plt.subplots(1, 2, figsize=(15, 5))\n",
    "\n",
    "sns.histplot(data['salary_in_usd'], kde=True, ax=axes[0])\n",
    "axes[0].set(xlabel='Размер зарплат', ylabel='Частота')\n",
    "axes[0].set_title('Распределение зарплат')\n",
    "axes[0].axvline(data['salary_in_usd'].mean(), color='red', linestyle='--', linewidth=0.8)\n",
    "\n",
    "sns.boxplot(data['salary_in_usd'], ax=axes[1], orient='h', medianprops={\"color\": \"red\", \"linestyle\": '--'})\n",
    "axes[1].set(ylabel='Размер зарплат')\n",
    "axes[1].set_title('Распределение зарплат')\n",
    "\n",
    "plt.show()"
   ]
  },
  {
   "cell_type": "code",
   "execution_count": 349,
   "id": "1c1a9640",
   "metadata": {},
   "outputs": [
    {
     "data": {
      "text/html": [
       "<div>\n",
       "<style scoped>\n",
       "    .dataframe tbody tr th:only-of-type {\n",
       "        vertical-align: middle;\n",
       "    }\n",
       "\n",
       "    .dataframe tbody tr th {\n",
       "        vertical-align: top;\n",
       "    }\n",
       "\n",
       "    .dataframe thead th {\n",
       "        text-align: right;\n",
       "    }\n",
       "</style>\n",
       "<table border=\"1\" class=\"dataframe\">\n",
       "  <thead>\n",
       "    <tr style=\"text-align: right;\">\n",
       "      <th></th>\n",
       "      <th>Размер зарплат</th>\n",
       "    </tr>\n",
       "  </thead>\n",
       "  <tbody>\n",
       "    <tr>\n",
       "      <th>count</th>\n",
       "      <td>565.00</td>\n",
       "    </tr>\n",
       "    <tr>\n",
       "      <th>mean</th>\n",
       "      <td>110610.34</td>\n",
       "    </tr>\n",
       "    <tr>\n",
       "      <th>std</th>\n",
       "      <td>72280.70</td>\n",
       "    </tr>\n",
       "    <tr>\n",
       "      <th>min</th>\n",
       "      <td>2859.00</td>\n",
       "    </tr>\n",
       "    <tr>\n",
       "      <th>25%</th>\n",
       "      <td>60757.00</td>\n",
       "    </tr>\n",
       "    <tr>\n",
       "      <th>50%</th>\n",
       "      <td>100000.00</td>\n",
       "    </tr>\n",
       "    <tr>\n",
       "      <th>75%</th>\n",
       "      <td>150000.00</td>\n",
       "    </tr>\n",
       "    <tr>\n",
       "      <th>max</th>\n",
       "      <td>600000.00</td>\n",
       "    </tr>\n",
       "  </tbody>\n",
       "</table>\n",
       "</div>"
      ],
      "text/plain": [
       "       Размер зарплат\n",
       "count          565.00\n",
       "mean        110610.34\n",
       "std          72280.70\n",
       "min           2859.00\n",
       "25%          60757.00\n",
       "50%         100000.00\n",
       "75%         150000.00\n",
       "max         600000.00"
      ]
     },
     "execution_count": 349,
     "metadata": {},
     "output_type": "execute_result"
    }
   ],
   "source": [
    "data_agg = data['salary_in_usd'].describe().round(2).to_frame()\n",
    "data_agg.columns = ['Размер зарплат']\n",
    "data_agg"
   ]
  },
  {
   "cell_type": "markdown",
   "id": "d3586a84",
   "metadata": {},
   "source": [
    "Распределение зарплат, как и ожидалось, отличается от нормального, а так же имеются выбросы"
   ]
  },
  {
   "cell_type": "markdown",
   "id": "5b0aee8d",
   "metadata": {},
   "source": [
    "## Изучение зависимости зарплаты Data Scientist от разных признаков"
   ]
  },
  {
   "cell_type": "code",
   "execution_count": 350,
   "id": "c8314955",
   "metadata": {},
   "outputs": [
    {
     "name": "stderr",
     "output_type": "stream",
     "text": [
      "2025-04-10 21:02:59,394 - INFO     - Using categorical units to plot a list of strings that are all parsable as floats or dates. If these strings should be plotted as numbers, cast to the appropriate data type before plotting.\n"
     ]
    },
    {
     "name": "stderr",
     "output_type": "stream",
     "text": [
      "2025-04-10 21:02:59,410 - INFO     - Using categorical units to plot a list of strings that are all parsable as floats or dates. If these strings should be plotted as numbers, cast to the appropriate data type before plotting.\n"
     ]
    },
    {
     "data": {
      "image/png": "[encoded data removed]",
      "text/plain": [
       "<Figure size 640x480 with 1 Axes>"
      ]
     },
     "metadata": {},
     "output_type": "display_data"
    }
   ],
   "source": [
    "ax = sns.boxplot(data[data['job_title']=='Data Scientist'], x='salary_in_usd', y='work_year', orient='h', medianprops={\"color\": \"red\", \"linestyle\": '--'})\n",
    "ax.set(xlabel='Размер зарплат', ylabel='Год')\n",
    "plt.title('Распределение зарплат по году')\n",
    "plt.show()"
   ]
  },
  {
   "cell_type": "code",
   "execution_count": 351,
   "id": "5d23cc6e",
   "metadata": {},
   "outputs": [
    {
     "name": "stdout",
     "output_type": "stream",
     "text": [
      "Зарплаты в зависимости от года\n"
     ]
    },
    {
     "data": {
      "text/html": [
       "<div>\n",
       "<style scoped>\n",
       "    .dataframe tbody tr th:only-of-type {\n",
       "        vertical-align: middle;\n",
       "    }\n",
       "\n",
       "    .dataframe tbody tr th {\n",
       "        vertical-align: top;\n",
       "    }\n",
       "\n",
       "    .dataframe thead th {\n",
       "        text-align: right;\n",
       "    }\n",
       "</style>\n",
       "<table border=\"1\" class=\"dataframe\">\n",
       "  <thead>\n",
       "    <tr style=\"text-align: right;\">\n",
       "      <th></th>\n",
       "      <th>count</th>\n",
       "      <th>mean</th>\n",
       "      <th>std</th>\n",
       "      <th>min</th>\n",
       "      <th>25%</th>\n",
       "      <th>50%</th>\n",
       "      <th>75%</th>\n",
       "      <th>max</th>\n",
       "    </tr>\n",
       "    <tr>\n",
       "      <th>work_year</th>\n",
       "      <th></th>\n",
       "      <th></th>\n",
       "      <th></th>\n",
       "      <th></th>\n",
       "      <th></th>\n",
       "      <th></th>\n",
       "      <th></th>\n",
       "      <th></th>\n",
       "    </tr>\n",
       "  </thead>\n",
       "  <tbody>\n",
       "    <tr>\n",
       "      <th>2020</th>\n",
       "      <td>21.0</td>\n",
       "      <td>85970.52</td>\n",
       "      <td>81436.65</td>\n",
       "      <td>21669.0</td>\n",
       "      <td>42197.00</td>\n",
       "      <td>62726.0</td>\n",
       "      <td>105000.00</td>\n",
       "      <td>412000.0</td>\n",
       "    </tr>\n",
       "    <tr>\n",
       "      <th>2021</th>\n",
       "      <td>44.0</td>\n",
       "      <td>70215.77</td>\n",
       "      <td>45843.82</td>\n",
       "      <td>2859.0</td>\n",
       "      <td>32793.75</td>\n",
       "      <td>67233.5</td>\n",
       "      <td>100922.75</td>\n",
       "      <td>165000.0</td>\n",
       "    </tr>\n",
       "    <tr>\n",
       "      <th>2022</th>\n",
       "      <td>65.0</td>\n",
       "      <td>131366.94</td>\n",
       "      <td>55785.24</td>\n",
       "      <td>18442.0</td>\n",
       "      <td>95550.00</td>\n",
       "      <td>135000.0</td>\n",
       "      <td>170000.00</td>\n",
       "      <td>260000.0</td>\n",
       "    </tr>\n",
       "  </tbody>\n",
       "</table>\n",
       "</div>"
      ],
      "text/plain": [
       "           count       mean       std      min       25%       50%        75%  \\\n",
       "work_year                                                                       \n",
       "2020        21.0   85970.52  81436.65  21669.0  42197.00   62726.0  105000.00   \n",
       "2021        44.0   70215.77  45843.82   2859.0  32793.75   67233.5  100922.75   \n",
       "2022        65.0  131366.94  55785.24  18442.0  95550.00  135000.0  170000.00   \n",
       "\n",
       "                max  \n",
       "work_year            \n",
       "2020       412000.0  \n",
       "2021       165000.0  \n",
       "2022       260000.0  "
      ]
     },
     "execution_count": 351,
     "metadata": {},
     "output_type": "execute_result"
    }
   ],
   "source": [
    "data_agg = data[data['job_title']=='Data Scientist'].groupby('work_year')['salary_in_usd'].describe().round(2)\n",
    "print('Зарплаты в зависимости от года')\n",
    "data_agg"
   ]
  },
  {
   "cell_type": "markdown",
   "id": "93bd96af",
   "metadata": {},
   "source": [
    "На первый взгляд распределения зарплат для разных годов различны. Чтобы определить, являются ли эти различия статистически значимыми, в следующем разделе мы проведём статистическое тестирование."
   ]
  },
  {
   "cell_type": "code",
   "execution_count": 352,
   "id": "0c892ab4",
   "metadata": {},
   "outputs": [
    {
     "name": "stderr",
     "output_type": "stream",
     "text": [
      "2025-04-10 21:02:59,720 - INFO     - Using categorical units to plot a list of strings that are all parsable as floats or dates. If these strings should be plotted as numbers, cast to the appropriate data type before plotting.\n",
      "2025-04-10 21:02:59,730 - INFO     - Using categorical units to plot a list of strings that are all parsable as floats or dates. If these strings should be plotted as numbers, cast to the appropriate data type before plotting.\n"
     ]
    },
    {
     "data": {
      "image/png": "[encoded data removed]",
      "text/plain": [
       "<Figure size 640x480 with 1 Axes>"
      ]
     },
     "metadata": {},
     "output_type": "display_data"
    }
   ],
   "source": [
    "\n",
    "ax = sns.boxplot(data[data['job_title']=='Data Scientist'], x='salary_in_usd', y='experience_level', orient='h', medianprops={\"color\": \"red\", \"linestyle\": '--'})\n",
    "ax.set(xlabel='Размер зарплат', ylabel='Опыт работы')\n",
    "plt.title('Распределение размера зарплат по опыту работы')\n",
    "plt.show()"
   ]
  },
  {
   "cell_type": "code",
   "execution_count": 353,
   "id": "39959594",
   "metadata": {},
   "outputs": [
    {
     "name": "stdout",
     "output_type": "stream",
     "text": [
      "Размер зарплаты по опыту работы\n"
     ]
    },
    {
     "data": {
      "text/html": [
       "<div>\n",
       "<style scoped>\n",
       "    .dataframe tbody tr th:only-of-type {\n",
       "        vertical-align: middle;\n",
       "    }\n",
       "\n",
       "    .dataframe tbody tr th {\n",
       "        vertical-align: top;\n",
       "    }\n",
       "\n",
       "    .dataframe thead th {\n",
       "        text-align: right;\n",
       "    }\n",
       "</style>\n",
       "<table border=\"1\" class=\"dataframe\">\n",
       "  <thead>\n",
       "    <tr style=\"text-align: right;\">\n",
       "      <th></th>\n",
       "      <th>count</th>\n",
       "      <th>mean</th>\n",
       "      <th>std</th>\n",
       "      <th>min</th>\n",
       "      <th>25%</th>\n",
       "      <th>50%</th>\n",
       "      <th>75%</th>\n",
       "      <th>max</th>\n",
       "    </tr>\n",
       "    <tr>\n",
       "      <th>experience_level</th>\n",
       "      <th></th>\n",
       "      <th></th>\n",
       "      <th></th>\n",
       "      <th></th>\n",
       "      <th></th>\n",
       "      <th></th>\n",
       "      <th></th>\n",
       "      <th></th>\n",
       "    </tr>\n",
       "  </thead>\n",
       "  <tbody>\n",
       "    <tr>\n",
       "      <th>1</th>\n",
       "      <td>22.0</td>\n",
       "      <td>55330.91</td>\n",
       "      <td>31237.82</td>\n",
       "      <td>4000.0</td>\n",
       "      <td>31474.0</td>\n",
       "      <td>50483.5</td>\n",
       "      <td>85027.25</td>\n",
       "      <td>105000.0</td>\n",
       "    </tr>\n",
       "    <tr>\n",
       "      <th>2</th>\n",
       "      <td>59.0</td>\n",
       "      <td>81891.76</td>\n",
       "      <td>47257.88</td>\n",
       "      <td>2859.0</td>\n",
       "      <td>41339.0</td>\n",
       "      <td>76958.0</td>\n",
       "      <td>118529.50</td>\n",
       "      <td>200000.0</td>\n",
       "    </tr>\n",
       "    <tr>\n",
       "      <th>3</th>\n",
       "      <td>49.0</td>\n",
       "      <td>150710.86</td>\n",
       "      <td>62918.63</td>\n",
       "      <td>20171.0</td>\n",
       "      <td>104890.0</td>\n",
       "      <td>144000.0</td>\n",
       "      <td>180000.00</td>\n",
       "      <td>412000.0</td>\n",
       "    </tr>\n",
       "  </tbody>\n",
       "</table>\n",
       "</div>"
      ],
      "text/plain": [
       "                  count       mean       std      min       25%       50%  \\\n",
       "experience_level                                                            \n",
       "1                  22.0   55330.91  31237.82   4000.0   31474.0   50483.5   \n",
       "2                  59.0   81891.76  47257.88   2859.0   41339.0   76958.0   \n",
       "3                  49.0  150710.86  62918.63  20171.0  104890.0  144000.0   \n",
       "\n",
       "                        75%       max  \n",
       "experience_level                       \n",
       "1                  85027.25  105000.0  \n",
       "2                 118529.50  200000.0  \n",
       "3                 180000.00  412000.0  "
      ]
     },
     "execution_count": 353,
     "metadata": {},
     "output_type": "execute_result"
    }
   ],
   "source": [
    "data_agg = data[data['job_title']=='Data Scientist'].groupby('experience_level')['salary_in_usd'].describe().round(2)\n",
    "print('Размер зарплаты по опыту работы')\n",
    "data_agg"
   ]
  },
  {
   "cell_type": "markdown",
   "id": "e2a36a3e",
   "metadata": {},
   "source": [
    "На первый взгляд распределения зарплат для разного опыта работы различны. Чтобы определить, являются ли эти различия статистически значимыми, в следующем разделе мы проведём статистическое тестирование."
   ]
  },
  {
   "cell_type": "code",
   "execution_count": 354,
   "id": "69cb82ad",
   "metadata": {},
   "outputs": [
    {
     "name": "stderr",
     "output_type": "stream",
     "text": [
      "2025-04-10 21:03:00,015 - INFO     - Using categorical units to plot a list of strings that are all parsable as floats or dates. If these strings should be plotted as numbers, cast to the appropriate data type before plotting.\n",
      "2025-04-10 21:03:00,029 - INFO     - Using categorical units to plot a list of strings that are all parsable as floats or dates. If these strings should be plotted as numbers, cast to the appropriate data type before plotting.\n"
     ]
    },
    {
     "data": {
      "image/png": "[encoded data removed]",
      "text/plain": [
       "<Figure size 640x480 with 1 Axes>"
      ]
     },
     "metadata": {},
     "output_type": "display_data"
    }
   ],
   "source": [
    "\n",
    "ax = sns.boxplot(data[data['job_title']=='Data Scientist'], x='salary_in_usd', y='employment_type', orient='h', medianprops={\"color\": \"red\", \"linestyle\": '--'})\n",
    "ax.set(xlabel='Размер зарплат', ylabel='Тип трудоустройства')\n",
    "plt.title('Распределение размера зарплат от типа трудоустройства')\n",
    "plt.show()\n"
   ]
  },
  {
   "cell_type": "code",
   "execution_count": 355,
   "id": "6b5e64d5",
   "metadata": {},
   "outputs": [
    {
     "name": "stdout",
     "output_type": "stream",
     "text": [
      "Размер зарплаты от типа трудоустройства\n"
     ]
    },
    {
     "data": {
      "text/html": [
       "<div>\n",
       "<style scoped>\n",
       "    .dataframe tbody tr th:only-of-type {\n",
       "        vertical-align: middle;\n",
       "    }\n",
       "\n",
       "    .dataframe tbody tr th {\n",
       "        vertical-align: top;\n",
       "    }\n",
       "\n",
       "    .dataframe thead th {\n",
       "        text-align: right;\n",
       "    }\n",
       "</style>\n",
       "<table border=\"1\" class=\"dataframe\">\n",
       "  <thead>\n",
       "    <tr style=\"text-align: right;\">\n",
       "      <th></th>\n",
       "      <th>count</th>\n",
       "      <th>mean</th>\n",
       "      <th>std</th>\n",
       "      <th>min</th>\n",
       "      <th>25%</th>\n",
       "      <th>50%</th>\n",
       "      <th>75%</th>\n",
       "      <th>max</th>\n",
       "    </tr>\n",
       "    <tr>\n",
       "      <th>employment_type</th>\n",
       "      <th></th>\n",
       "      <th></th>\n",
       "      <th></th>\n",
       "      <th></th>\n",
       "      <th></th>\n",
       "      <th></th>\n",
       "      <th></th>\n",
       "      <th></th>\n",
       "    </tr>\n",
       "  </thead>\n",
       "  <tbody>\n",
       "    <tr>\n",
       "      <th>1</th>\n",
       "      <td>2.0</td>\n",
       "      <td>60834.50</td>\n",
       "      <td>55388.38</td>\n",
       "      <td>21669.0</td>\n",
       "      <td>41251.75</td>\n",
       "      <td>60834.5</td>\n",
       "      <td>80417.25</td>\n",
       "      <td>100000.0</td>\n",
       "    </tr>\n",
       "    <tr>\n",
       "      <th>2</th>\n",
       "      <td>127.0</td>\n",
       "      <td>104031.94</td>\n",
       "      <td>64309.23</td>\n",
       "      <td>2859.0</td>\n",
       "      <td>50660.50</td>\n",
       "      <td>100000.0</td>\n",
       "      <td>140850.00</td>\n",
       "      <td>412000.0</td>\n",
       "    </tr>\n",
       "    <tr>\n",
       "      <th>4</th>\n",
       "      <td>1.0</td>\n",
       "      <td>100000.00</td>\n",
       "      <td>NaN</td>\n",
       "      <td>100000.0</td>\n",
       "      <td>100000.00</td>\n",
       "      <td>100000.0</td>\n",
       "      <td>100000.00</td>\n",
       "      <td>100000.0</td>\n",
       "    </tr>\n",
       "  </tbody>\n",
       "</table>\n",
       "</div>"
      ],
      "text/plain": [
       "                 count       mean       std       min        25%       50%  \\\n",
       "employment_type                                                              \n",
       "1                  2.0   60834.50  55388.38   21669.0   41251.75   60834.5   \n",
       "2                127.0  104031.94  64309.23    2859.0   50660.50  100000.0   \n",
       "4                  1.0  100000.00       NaN  100000.0  100000.00  100000.0   \n",
       "\n",
       "                       75%       max  \n",
       "employment_type                       \n",
       "1                 80417.25  100000.0  \n",
       "2                140850.00  412000.0  \n",
       "4                100000.00  100000.0  "
      ]
     },
     "execution_count": 355,
     "metadata": {},
     "output_type": "execute_result"
    }
   ],
   "source": [
    "data_agg = data[data['job_title']=='Data Scientist'].groupby('employment_type')['salary_in_usd'].describe().round(2)\n",
    "print('Размер зарплаты от типа трудоустройства')\n",
    "data_agg"
   ]
  },
  {
   "cell_type": "markdown",
   "id": "eda6d15a",
   "metadata": {},
   "source": [
    "Не имеет смысла искать зависимость вида трудоустройства от зарплаты, так как слишком мало специалистов Data Scientist, работающих не по полному рабочему дню"
   ]
  },
  {
   "cell_type": "code",
   "execution_count": 356,
   "id": "bb36bba6",
   "metadata": {},
   "outputs": [
    {
     "data": {
      "image/png": "[encoded data removed]",
      "text/plain": [
       "<Figure size 640x480 with 1 Axes>"
      ]
     },
     "metadata": {},
     "output_type": "display_data"
    }
   ],
   "source": [
    "df = data[data['job_title'].isin(['Data Scientist', 'Data Engineer'])]\n",
    "df = df[df['work_year'] == 2022]\n",
    "ax = sns.boxplot(df, x='salary_in_usd', y='job_title', orient='h', medianprops={\"color\": \"red\", \"linestyle\": '--'})\n",
    "ax.set(xlabel='Размер зарплат', ylabel='Роль')\n",
    "plt.title('Распределение размера зарплат от роли')\n",
    "plt.show()\n"
   ]
  },
  {
   "cell_type": "code",
   "execution_count": 357,
   "id": "9b4b427e",
   "metadata": {},
   "outputs": [
    {
     "name": "stdout",
     "output_type": "stream",
     "text": [
      "Размер зарплаты от типа трудоустройства\n"
     ]
    },
    {
     "data": {
      "text/html": [
       "<div>\n",
       "<style scoped>\n",
       "    .dataframe tbody tr th:only-of-type {\n",
       "        vertical-align: middle;\n",
       "    }\n",
       "\n",
       "    .dataframe tbody tr th {\n",
       "        vertical-align: top;\n",
       "    }\n",
       "\n",
       "    .dataframe thead th {\n",
       "        text-align: right;\n",
       "    }\n",
       "</style>\n",
       "<table border=\"1\" class=\"dataframe\">\n",
       "  <thead>\n",
       "    <tr style=\"text-align: right;\">\n",
       "      <th></th>\n",
       "      <th>count</th>\n",
       "      <th>mean</th>\n",
       "      <th>std</th>\n",
       "      <th>min</th>\n",
       "      <th>25%</th>\n",
       "      <th>50%</th>\n",
       "      <th>75%</th>\n",
       "      <th>max</th>\n",
       "    </tr>\n",
       "    <tr>\n",
       "      <th>job_title</th>\n",
       "      <th></th>\n",
       "      <th></th>\n",
       "      <th></th>\n",
       "      <th></th>\n",
       "      <th></th>\n",
       "      <th></th>\n",
       "      <th></th>\n",
       "      <th></th>\n",
       "    </tr>\n",
       "  </thead>\n",
       "  <tbody>\n",
       "    <tr>\n",
       "      <th>Data Engineer</th>\n",
       "      <td>121.0</td>\n",
       "      <td>109750.03</td>\n",
       "      <td>58203.68</td>\n",
       "      <td>4000.0</td>\n",
       "      <td>66022.00</td>\n",
       "      <td>100800.0</td>\n",
       "      <td>150000.0</td>\n",
       "      <td>324000.0</td>\n",
       "    </tr>\n",
       "    <tr>\n",
       "      <th>Data Scientist</th>\n",
       "      <td>130.0</td>\n",
       "      <td>103336.35</td>\n",
       "      <td>63967.56</td>\n",
       "      <td>2859.0</td>\n",
       "      <td>50330.25</td>\n",
       "      <td>100000.0</td>\n",
       "      <td>140400.0</td>\n",
       "      <td>412000.0</td>\n",
       "    </tr>\n",
       "  </tbody>\n",
       "</table>\n",
       "</div>"
      ],
      "text/plain": [
       "                count       mean       std     min       25%       50%  \\\n",
       "job_title                                                                \n",
       "Data Engineer   121.0  109750.03  58203.68  4000.0  66022.00  100800.0   \n",
       "Data Scientist  130.0  103336.35  63967.56  2859.0  50330.25  100000.0   \n",
       "\n",
       "                     75%       max  \n",
       "job_title                           \n",
       "Data Engineer   150000.0  324000.0  \n",
       "Data Scientist  140400.0  412000.0  "
      ]
     },
     "execution_count": 357,
     "metadata": {},
     "output_type": "execute_result"
    }
   ],
   "source": [
    "data_agg = data[data['job_title'].isin(['Data Scientist', 'Data Engineer'])].groupby('job_title')['salary_in_usd'].describe().round(2)\n",
    "print('Размер зарплаты от типа трудоустройства')\n",
    "data_agg"
   ]
  },
  {
   "cell_type": "markdown",
   "id": "ad39a825",
   "metadata": {},
   "source": [
    "На первый взгляд распределения зарплат для разной роли соискателя различны. Чтобы определить, являются ли эти различия статистически значимыми, в следующем разделе мы проведём статистическое тестирование."
   ]
  },
  {
   "cell_type": "code",
   "execution_count": 358,
   "id": "219a0eee",
   "metadata": {},
   "outputs": [
    {
     "data": {
      "image/png": "[encoded data removed]",
      "text/plain": [
       "<Figure size 640x480 with 1 Axes>"
      ]
     },
     "metadata": {},
     "output_type": "display_data"
    }
   ],
   "source": [
    "ax = sns.boxplot(data[data['job_title']=='Data Scientist'], x='salary_in_usd', y='company_location', orient='h', medianprops={\"color\": \"red\", \"linestyle\": '--'})\n",
    "ax.set(xlabel='Размер зарплат', ylabel='Страна')\n",
    "plt.title('Распределение размера зарплат от страны')\n",
    "plt.show()"
   ]
  },
  {
   "cell_type": "code",
   "execution_count": 359,
   "id": "6e97d4e7",
   "metadata": {},
   "outputs": [
    {
     "name": "stdout",
     "output_type": "stream",
     "text": [
      "Размер зарплаты от  страны\n"
     ]
    },
    {
     "data": {
      "text/html": [
       "<div>\n",
       "<style scoped>\n",
       "    .dataframe tbody tr th:only-of-type {\n",
       "        vertical-align: middle;\n",
       "    }\n",
       "\n",
       "    .dataframe tbody tr th {\n",
       "        vertical-align: top;\n",
       "    }\n",
       "\n",
       "    .dataframe thead th {\n",
       "        text-align: right;\n",
       "    }\n",
       "</style>\n",
       "<table border=\"1\" class=\"dataframe\">\n",
       "  <thead>\n",
       "    <tr style=\"text-align: right;\">\n",
       "      <th></th>\n",
       "      <th>count</th>\n",
       "      <th>mean</th>\n",
       "      <th>std</th>\n",
       "      <th>min</th>\n",
       "      <th>25%</th>\n",
       "      <th>50%</th>\n",
       "      <th>75%</th>\n",
       "      <th>max</th>\n",
       "    </tr>\n",
       "    <tr>\n",
       "      <th>company_location</th>\n",
       "      <th></th>\n",
       "      <th></th>\n",
       "      <th></th>\n",
       "      <th></th>\n",
       "      <th></th>\n",
       "      <th></th>\n",
       "      <th></th>\n",
       "      <th></th>\n",
       "    </tr>\n",
       "  </thead>\n",
       "  <tbody>\n",
       "    <tr>\n",
       "      <th>AT</th>\n",
       "      <td>2.0</td>\n",
       "      <td>76352.00</td>\n",
       "      <td>21050.57</td>\n",
       "      <td>61467.0</td>\n",
       "      <td>68909.5</td>\n",
       "      <td>76352.0</td>\n",
       "      <td>83794.50</td>\n",
       "      <td>91237.0</td>\n",
       "    </tr>\n",
       "    <tr>\n",
       "      <th>AU</th>\n",
       "      <td>1.0</td>\n",
       "      <td>86703.00</td>\n",
       "      <td>NaN</td>\n",
       "      <td>86703.0</td>\n",
       "      <td>86703.0</td>\n",
       "      <td>86703.0</td>\n",
       "      <td>86703.00</td>\n",
       "      <td>86703.0</td>\n",
       "    </tr>\n",
       "    <tr>\n",
       "      <th>BR</th>\n",
       "      <td>1.0</td>\n",
       "      <td>12901.00</td>\n",
       "      <td>NaN</td>\n",
       "      <td>12901.0</td>\n",
       "      <td>12901.0</td>\n",
       "      <td>12901.0</td>\n",
       "      <td>12901.00</td>\n",
       "      <td>12901.0</td>\n",
       "    </tr>\n",
       "    <tr>\n",
       "      <th>CA</th>\n",
       "      <td>5.0</td>\n",
       "      <td>77787.00</td>\n",
       "      <td>19301.65</td>\n",
       "      <td>52396.0</td>\n",
       "      <td>69336.0</td>\n",
       "      <td>75774.0</td>\n",
       "      <td>87738.00</td>\n",
       "      <td>103691.0</td>\n",
       "    </tr>\n",
       "    <tr>\n",
       "      <th>CH</th>\n",
       "      <td>1.0</td>\n",
       "      <td>122346.00</td>\n",
       "      <td>NaN</td>\n",
       "      <td>122346.0</td>\n",
       "      <td>122346.0</td>\n",
       "      <td>122346.0</td>\n",
       "      <td>122346.00</td>\n",
       "      <td>122346.0</td>\n",
       "    </tr>\n",
       "    <tr>\n",
       "      <th>CL</th>\n",
       "      <td>1.0</td>\n",
       "      <td>40038.00</td>\n",
       "      <td>NaN</td>\n",
       "      <td>40038.0</td>\n",
       "      <td>40038.0</td>\n",
       "      <td>40038.0</td>\n",
       "      <td>40038.00</td>\n",
       "      <td>40038.0</td>\n",
       "    </tr>\n",
       "    <tr>\n",
       "      <th>DE</th>\n",
       "      <td>6.0</td>\n",
       "      <td>66124.50</td>\n",
       "      <td>25473.80</td>\n",
       "      <td>25532.0</td>\n",
       "      <td>52632.5</td>\n",
       "      <td>71279.5</td>\n",
       "      <td>86448.75</td>\n",
       "      <td>90734.0</td>\n",
       "    </tr>\n",
       "    <tr>\n",
       "      <th>DZ</th>\n",
       "      <td>1.0</td>\n",
       "      <td>100000.00</td>\n",
       "      <td>NaN</td>\n",
       "      <td>100000.0</td>\n",
       "      <td>100000.0</td>\n",
       "      <td>100000.0</td>\n",
       "      <td>100000.00</td>\n",
       "      <td>100000.0</td>\n",
       "    </tr>\n",
       "    <tr>\n",
       "      <th>ES</th>\n",
       "      <td>3.0</td>\n",
       "      <td>41136.67</td>\n",
       "      <td>4935.34</td>\n",
       "      <td>37825.0</td>\n",
       "      <td>38300.5</td>\n",
       "      <td>38776.0</td>\n",
       "      <td>42792.50</td>\n",
       "      <td>46809.0</td>\n",
       "    </tr>\n",
       "    <tr>\n",
       "      <th>FR</th>\n",
       "      <td>7.0</td>\n",
       "      <td>50085.57</td>\n",
       "      <td>13658.91</td>\n",
       "      <td>36643.0</td>\n",
       "      <td>41056.5</td>\n",
       "      <td>49646.0</td>\n",
       "      <td>52256.50</td>\n",
       "      <td>77684.0</td>\n",
       "    </tr>\n",
       "    <tr>\n",
       "      <th>GB</th>\n",
       "      <td>11.0</td>\n",
       "      <td>88177.36</td>\n",
       "      <td>41393.50</td>\n",
       "      <td>39263.0</td>\n",
       "      <td>60847.0</td>\n",
       "      <td>76958.0</td>\n",
       "      <td>110808.00</td>\n",
       "      <td>183228.0</td>\n",
       "    </tr>\n",
       "    <tr>\n",
       "      <th>HU</th>\n",
       "      <td>1.0</td>\n",
       "      <td>35735.00</td>\n",
       "      <td>NaN</td>\n",
       "      <td>35735.0</td>\n",
       "      <td>35735.0</td>\n",
       "      <td>35735.0</td>\n",
       "      <td>35735.00</td>\n",
       "      <td>35735.0</td>\n",
       "    </tr>\n",
       "    <tr>\n",
       "      <th>IL</th>\n",
       "      <td>1.0</td>\n",
       "      <td>119059.00</td>\n",
       "      <td>NaN</td>\n",
       "      <td>119059.0</td>\n",
       "      <td>119059.0</td>\n",
       "      <td>119059.0</td>\n",
       "      <td>119059.00</td>\n",
       "      <td>119059.0</td>\n",
       "    </tr>\n",
       "    <tr>\n",
       "      <th>IN</th>\n",
       "      <td>8.0</td>\n",
       "      <td>26108.25</td>\n",
       "      <td>10248.05</td>\n",
       "      <td>9466.0</td>\n",
       "      <td>18057.5</td>\n",
       "      <td>29075.0</td>\n",
       "      <td>32163.25</td>\n",
       "      <td>40481.0</td>\n",
       "    </tr>\n",
       "    <tr>\n",
       "      <th>IT</th>\n",
       "      <td>1.0</td>\n",
       "      <td>21669.00</td>\n",
       "      <td>NaN</td>\n",
       "      <td>21669.0</td>\n",
       "      <td>21669.0</td>\n",
       "      <td>21669.0</td>\n",
       "      <td>21669.00</td>\n",
       "      <td>21669.0</td>\n",
       "    </tr>\n",
       "    <tr>\n",
       "      <th>LU</th>\n",
       "      <td>1.0</td>\n",
       "      <td>62726.00</td>\n",
       "      <td>NaN</td>\n",
       "      <td>62726.0</td>\n",
       "      <td>62726.0</td>\n",
       "      <td>62726.0</td>\n",
       "      <td>62726.00</td>\n",
       "      <td>62726.0</td>\n",
       "    </tr>\n",
       "    <tr>\n",
       "      <th>MX</th>\n",
       "      <td>1.0</td>\n",
       "      <td>2859.00</td>\n",
       "      <td>NaN</td>\n",
       "      <td>2859.0</td>\n",
       "      <td>2859.0</td>\n",
       "      <td>2859.0</td>\n",
       "      <td>2859.00</td>\n",
       "      <td>2859.0</td>\n",
       "    </tr>\n",
       "    <tr>\n",
       "      <th>MY</th>\n",
       "      <td>1.0</td>\n",
       "      <td>40000.00</td>\n",
       "      <td>NaN</td>\n",
       "      <td>40000.0</td>\n",
       "      <td>40000.0</td>\n",
       "      <td>40000.0</td>\n",
       "      <td>40000.00</td>\n",
       "      <td>40000.0</td>\n",
       "    </tr>\n",
       "    <tr>\n",
       "      <th>NG</th>\n",
       "      <td>1.0</td>\n",
       "      <td>50000.00</td>\n",
       "      <td>NaN</td>\n",
       "      <td>50000.0</td>\n",
       "      <td>50000.0</td>\n",
       "      <td>50000.0</td>\n",
       "      <td>50000.00</td>\n",
       "      <td>50000.0</td>\n",
       "    </tr>\n",
       "    <tr>\n",
       "      <th>PL</th>\n",
       "      <td>1.0</td>\n",
       "      <td>35590.00</td>\n",
       "      <td>NaN</td>\n",
       "      <td>35590.0</td>\n",
       "      <td>35590.0</td>\n",
       "      <td>35590.0</td>\n",
       "      <td>35590.00</td>\n",
       "      <td>35590.0</td>\n",
       "    </tr>\n",
       "    <tr>\n",
       "      <th>TR</th>\n",
       "      <td>1.0</td>\n",
       "      <td>20171.00</td>\n",
       "      <td>NaN</td>\n",
       "      <td>20171.0</td>\n",
       "      <td>20171.0</td>\n",
       "      <td>20171.0</td>\n",
       "      <td>20171.00</td>\n",
       "      <td>20171.0</td>\n",
       "    </tr>\n",
       "    <tr>\n",
       "      <th>UA</th>\n",
       "      <td>1.0</td>\n",
       "      <td>13400.00</td>\n",
       "      <td>NaN</td>\n",
       "      <td>13400.0</td>\n",
       "      <td>13400.0</td>\n",
       "      <td>13400.0</td>\n",
       "      <td>13400.00</td>\n",
       "      <td>13400.0</td>\n",
       "    </tr>\n",
       "    <tr>\n",
       "      <th>US</th>\n",
       "      <td>72.0</td>\n",
       "      <td>139934.96</td>\n",
       "      <td>58150.12</td>\n",
       "      <td>5679.0</td>\n",
       "      <td>101575.0</td>\n",
       "      <td>137485.0</td>\n",
       "      <td>165665.00</td>\n",
       "      <td>412000.0</td>\n",
       "    </tr>\n",
       "    <tr>\n",
       "      <th>VN</th>\n",
       "      <td>1.0</td>\n",
       "      <td>4000.00</td>\n",
       "      <td>NaN</td>\n",
       "      <td>4000.0</td>\n",
       "      <td>4000.0</td>\n",
       "      <td>4000.0</td>\n",
       "      <td>4000.00</td>\n",
       "      <td>4000.0</td>\n",
       "    </tr>\n",
       "  </tbody>\n",
       "</table>\n",
       "</div>"
      ],
      "text/plain": [
       "                  count       mean       std       min       25%       50%  \\\n",
       "company_location                                                             \n",
       "AT                  2.0   76352.00  21050.57   61467.0   68909.5   76352.0   \n",
       "AU                  1.0   86703.00       NaN   86703.0   86703.0   86703.0   \n",
       "BR                  1.0   12901.00       NaN   12901.0   12901.0   12901.0   \n",
       "CA                  5.0   77787.00  19301.65   52396.0   69336.0   75774.0   \n",
       "CH                  1.0  122346.00       NaN  122346.0  122346.0  122346.0   \n",
       "CL                  1.0   40038.00       NaN   40038.0   40038.0   40038.0   \n",
       "DE                  6.0   66124.50  25473.80   25532.0   52632.5   71279.5   \n",
       "DZ                  1.0  100000.00       NaN  100000.0  100000.0  100000.0   \n",
       "ES                  3.0   41136.67   4935.34   37825.0   38300.5   38776.0   \n",
       "FR                  7.0   50085.57  13658.91   36643.0   41056.5   49646.0   \n",
       "GB                 11.0   88177.36  41393.50   39263.0   60847.0   76958.0   \n",
       "HU                  1.0   35735.00       NaN   35735.0   35735.0   35735.0   \n",
       "IL                  1.0  119059.00       NaN  119059.0  119059.0  119059.0   \n",
       "IN                  8.0   26108.25  10248.05    9466.0   18057.5   29075.0   \n",
       "IT                  1.0   21669.00       NaN   21669.0   21669.0   21669.0   \n",
       "LU                  1.0   62726.00       NaN   62726.0   62726.0   62726.0   \n",
       "MX                  1.0    2859.00       NaN    2859.0    2859.0    2859.0   \n",
       "MY                  1.0   40000.00       NaN   40000.0   40000.0   40000.0   \n",
       "NG                  1.0   50000.00       NaN   50000.0   50000.0   50000.0   \n",
       "PL                  1.0   35590.00       NaN   35590.0   35590.0   35590.0   \n",
       "TR                  1.0   20171.00       NaN   20171.0   20171.0   20171.0   \n",
       "UA                  1.0   13400.00       NaN   13400.0   13400.0   13400.0   \n",
       "US                 72.0  139934.96  58150.12    5679.0  101575.0  137485.0   \n",
       "VN                  1.0    4000.00       NaN    4000.0    4000.0    4000.0   \n",
       "\n",
       "                        75%       max  \n",
       "company_location                       \n",
       "AT                 83794.50   91237.0  \n",
       "AU                 86703.00   86703.0  \n",
       "BR                 12901.00   12901.0  \n",
       "CA                 87738.00  103691.0  \n",
       "CH                122346.00  122346.0  \n",
       "CL                 40038.00   40038.0  \n",
       "DE                 86448.75   90734.0  \n",
       "DZ                100000.00  100000.0  \n",
       "ES                 42792.50   46809.0  \n",
       "FR                 52256.50   77684.0  \n",
       "GB                110808.00  183228.0  \n",
       "HU                 35735.00   35735.0  \n",
       "IL                119059.00  119059.0  \n",
       "IN                 32163.25   40481.0  \n",
       "IT                 21669.00   21669.0  \n",
       "LU                 62726.00   62726.0  \n",
       "MX                  2859.00    2859.0  \n",
       "MY                 40000.00   40000.0  \n",
       "NG                 50000.00   50000.0  \n",
       "PL                 35590.00   35590.0  \n",
       "TR                 20171.00   20171.0  \n",
       "UA                 13400.00   13400.0  \n",
       "US                165665.00  412000.0  \n",
       "VN                  4000.00    4000.0  "
      ]
     },
     "execution_count": 359,
     "metadata": {},
     "output_type": "execute_result"
    }
   ],
   "source": [
    "data_agg = data[data['job_title']=='Data Scientist'].groupby('company_location')['salary_in_usd'].describe().round(2)\n",
    "print('Размер зарплаты от  страны')\n",
    "data_agg"
   ]
  },
  {
   "cell_type": "markdown",
   "id": "f23ef59d",
   "metadata": {},
   "source": [
    "Нет смысла искать статистическую значимость влияния стран на зарплату, потому что в большинстве стран приведено по одному примеру, что не достаточно для проверки"
   ]
  },
  {
   "cell_type": "code",
   "execution_count": 360,
   "id": "800052ff",
   "metadata": {},
   "outputs": [
    {
     "name": "stderr",
     "output_type": "stream",
     "text": [
      "2025-04-10 21:03:01,280 - INFO     - Using categorical units to plot a list of strings that are all parsable as floats or dates. If these strings should be plotted as numbers, cast to the appropriate data type before plotting.\n",
      "2025-04-10 21:03:01,291 - INFO     - Using categorical units to plot a list of strings that are all parsable as floats or dates. If these strings should be plotted as numbers, cast to the appropriate data type before plotting.\n"
     ]
    },
    {
     "data": {
      "image/png": "[encoded data removed]",
      "text/plain": [
       "<Figure size 640x480 with 1 Axes>"
      ]
     },
     "metadata": {},
     "output_type": "display_data"
    }
   ],
   "source": [
    "ax = sns.boxplot(data[data['job_title']=='Data Scientist'], x='salary_in_usd', y='remote_ratio', orient='h', medianprops={\"color\": \"red\", \"linestyle\": '--'})\n",
    "ax.set(xlabel='Размер зарплат', ylabel='Количество удаленной работы')\n",
    "plt.title('Распределение размера зарплат от количества удаленной работы')\n",
    "plt.show()"
   ]
  },
  {
   "cell_type": "code",
   "execution_count": 361,
   "id": "efcac41f",
   "metadata": {},
   "outputs": [
    {
     "name": "stdout",
     "output_type": "stream",
     "text": [
      "Размер зарплаты от количества удаленной работы\n"
     ]
    },
    {
     "data": {
      "text/html": [
       "<div>\n",
       "<style scoped>\n",
       "    .dataframe tbody tr th:only-of-type {\n",
       "        vertical-align: middle;\n",
       "    }\n",
       "\n",
       "    .dataframe tbody tr th {\n",
       "        vertical-align: top;\n",
       "    }\n",
       "\n",
       "    .dataframe thead th {\n",
       "        text-align: right;\n",
       "    }\n",
       "</style>\n",
       "<table border=\"1\" class=\"dataframe\">\n",
       "  <thead>\n",
       "    <tr style=\"text-align: right;\">\n",
       "      <th></th>\n",
       "      <th>count</th>\n",
       "      <th>mean</th>\n",
       "      <th>std</th>\n",
       "      <th>min</th>\n",
       "      <th>25%</th>\n",
       "      <th>50%</th>\n",
       "      <th>75%</th>\n",
       "      <th>max</th>\n",
       "    </tr>\n",
       "    <tr>\n",
       "      <th>remote_ratio</th>\n",
       "      <th></th>\n",
       "      <th></th>\n",
       "      <th></th>\n",
       "      <th></th>\n",
       "      <th></th>\n",
       "      <th></th>\n",
       "      <th></th>\n",
       "      <th></th>\n",
       "    </tr>\n",
       "  </thead>\n",
       "  <tbody>\n",
       "    <tr>\n",
       "      <th>1</th>\n",
       "      <td>38.0</td>\n",
       "      <td>98444.97</td>\n",
       "      <td>58647.60</td>\n",
       "      <td>2859.0</td>\n",
       "      <td>49781.25</td>\n",
       "      <td>93582.0</td>\n",
       "      <td>139050.0</td>\n",
       "      <td>215300.0</td>\n",
       "    </tr>\n",
       "    <tr>\n",
       "      <th>2</th>\n",
       "      <td>24.0</td>\n",
       "      <td>73827.83</td>\n",
       "      <td>36204.18</td>\n",
       "      <td>20171.0</td>\n",
       "      <td>47783.75</td>\n",
       "      <td>62726.0</td>\n",
       "      <td>102250.0</td>\n",
       "      <td>147000.0</td>\n",
       "    </tr>\n",
       "    <tr>\n",
       "      <th>3</th>\n",
       "      <td>68.0</td>\n",
       "      <td>116484.54</td>\n",
       "      <td>70908.36</td>\n",
       "      <td>5679.0</td>\n",
       "      <td>64420.00</td>\n",
       "      <td>111500.0</td>\n",
       "      <td>160000.0</td>\n",
       "      <td>412000.0</td>\n",
       "    </tr>\n",
       "  </tbody>\n",
       "</table>\n",
       "</div>"
      ],
      "text/plain": [
       "              count       mean       std      min       25%       50%  \\\n",
       "remote_ratio                                                            \n",
       "1              38.0   98444.97  58647.60   2859.0  49781.25   93582.0   \n",
       "2              24.0   73827.83  36204.18  20171.0  47783.75   62726.0   \n",
       "3              68.0  116484.54  70908.36   5679.0  64420.00  111500.0   \n",
       "\n",
       "                   75%       max  \n",
       "remote_ratio                      \n",
       "1             139050.0  215300.0  \n",
       "2             102250.0  147000.0  \n",
       "3             160000.0  412000.0  "
      ]
     },
     "execution_count": 361,
     "metadata": {},
     "output_type": "execute_result"
    }
   ],
   "source": [
    "data_agg = data[data['job_title']=='Data Scientist'].groupby('remote_ratio')['salary_in_usd'].describe().round(2)\n",
    "print('Размер зарплаты от количества удаленной работы')\n",
    "data_agg"
   ]
  },
  {
   "cell_type": "markdown",
   "id": "f7435230",
   "metadata": {},
   "source": [
    "На первый взгляд распределения зарплат для разной степени количества удаленной работы соискателя различны. Чтобы определить, являются ли эти различия статистически значимыми, в следующем разделе мы проведём статистическое тестирование."
   ]
  },
  {
   "cell_type": "code",
   "execution_count": 362,
   "id": "9f5519fb",
   "metadata": {},
   "outputs": [
    {
     "name": "stderr",
     "output_type": "stream",
     "text": [
      "2025-04-10 21:03:01,583 - INFO     - Using categorical units to plot a list of strings that are all parsable as floats or dates. If these strings should be plotted as numbers, cast to the appropriate data type before plotting.\n",
      "2025-04-10 21:03:01,588 - INFO     - Using categorical units to plot a list of strings that are all parsable as floats or dates. If these strings should be plotted as numbers, cast to the appropriate data type before plotting.\n"
     ]
    },
    {
     "data": {
      "image/png": "[encoded data removed]",
      "text/plain": [
       "<Figure size 640x480 with 1 Axes>"
      ]
     },
     "metadata": {},
     "output_type": "display_data"
    }
   ],
   "source": [
    "ax = sns.boxplot(data[data['job_title']=='Data Scientist'], x='salary_in_usd', y='company_size', orient='h', medianprops={\"color\": \"red\", \"linestyle\": '--'})\n",
    "ax.set(xlabel='Размер зарплат', ylabel='размер фирмы')\n",
    "plt.title('Распределение размера зарплат от размера фирмы')\n",
    "plt.show()"
   ]
  },
  {
   "cell_type": "code",
   "execution_count": 363,
   "id": "21349862",
   "metadata": {},
   "outputs": [
    {
     "name": "stdout",
     "output_type": "stream",
     "text": [
      "Размер зарплаты от размера фирмы\n"
     ]
    },
    {
     "data": {
      "text/html": [
       "<div>\n",
       "<style scoped>\n",
       "    .dataframe tbody tr th:only-of-type {\n",
       "        vertical-align: middle;\n",
       "    }\n",
       "\n",
       "    .dataframe tbody tr th {\n",
       "        vertical-align: top;\n",
       "    }\n",
       "\n",
       "    .dataframe thead th {\n",
       "        text-align: right;\n",
       "    }\n",
       "</style>\n",
       "<table border=\"1\" class=\"dataframe\">\n",
       "  <thead>\n",
       "    <tr style=\"text-align: right;\">\n",
       "      <th></th>\n",
       "      <th>count</th>\n",
       "      <th>mean</th>\n",
       "      <th>std</th>\n",
       "      <th>min</th>\n",
       "      <th>25%</th>\n",
       "      <th>50%</th>\n",
       "      <th>75%</th>\n",
       "      <th>max</th>\n",
       "    </tr>\n",
       "    <tr>\n",
       "      <th>company_size</th>\n",
       "      <th></th>\n",
       "      <th></th>\n",
       "      <th></th>\n",
       "      <th></th>\n",
       "      <th></th>\n",
       "      <th></th>\n",
       "      <th></th>\n",
       "      <th></th>\n",
       "    </tr>\n",
       "  </thead>\n",
       "  <tbody>\n",
       "    <tr>\n",
       "      <th>1</th>\n",
       "      <td>21.0</td>\n",
       "      <td>51925.76</td>\n",
       "      <td>33216.29</td>\n",
       "      <td>2859.0</td>\n",
       "      <td>21669.0</td>\n",
       "      <td>49268.0</td>\n",
       "      <td>82500.0</td>\n",
       "      <td>105000.0</td>\n",
       "    </tr>\n",
       "    <tr>\n",
       "      <th>2</th>\n",
       "      <td>66.0</td>\n",
       "      <td>120080.58</td>\n",
       "      <td>56347.79</td>\n",
       "      <td>4000.0</td>\n",
       "      <td>80000.0</td>\n",
       "      <td>119529.5</td>\n",
       "      <td>157500.0</td>\n",
       "      <td>260000.0</td>\n",
       "    </tr>\n",
       "    <tr>\n",
       "      <th>3</th>\n",
       "      <td>43.0</td>\n",
       "      <td>102743.42</td>\n",
       "      <td>73254.10</td>\n",
       "      <td>13400.0</td>\n",
       "      <td>45240.5</td>\n",
       "      <td>90734.0</td>\n",
       "      <td>135000.0</td>\n",
       "      <td>412000.0</td>\n",
       "    </tr>\n",
       "  </tbody>\n",
       "</table>\n",
       "</div>"
      ],
      "text/plain": [
       "              count       mean       std      min      25%       50%  \\\n",
       "company_size                                                           \n",
       "1              21.0   51925.76  33216.29   2859.0  21669.0   49268.0   \n",
       "2              66.0  120080.58  56347.79   4000.0  80000.0  119529.5   \n",
       "3              43.0  102743.42  73254.10  13400.0  45240.5   90734.0   \n",
       "\n",
       "                   75%       max  \n",
       "company_size                      \n",
       "1              82500.0  105000.0  \n",
       "2             157500.0  260000.0  \n",
       "3             135000.0  412000.0  "
      ]
     },
     "execution_count": 363,
     "metadata": {},
     "output_type": "execute_result"
    }
   ],
   "source": [
    "data_agg = data[data['job_title']=='Data Scientist'].groupby('company_size')['salary_in_usd'].describe().round(2)\n",
    "print('Размер зарплаты от размера фирмы')\n",
    "data_agg"
   ]
  },
  {
   "cell_type": "code",
   "execution_count": 364,
   "id": "5d4e60a0",
   "metadata": {},
   "outputs": [
    {
     "data": {
      "image/png": "[encoded data removed]",
      "text/plain": [
       "<Figure size 640x480 with 2 Axes>"
      ]
     },
     "metadata": {},
     "output_type": "display_data"
    }
   ],
   "source": [
    "df = data.copy()\n",
    "df['data sci or eng'] = df['job_title'].apply(lambda x : 1 if x=='Data Scientist' or x=='Data Engineer' else 0)\n",
    "\n",
    "cross_tab = pd.crosstab(index=df['company_size'], columns=df['data sci or eng'])\n",
    "ax = sns.heatmap(cross_tab, annot=True, linewidth=.5, fmt='.0f', cmap=\"coolwarm\")\n",
    "ax.set(xlabel='Наличие должностей Data Science or Data Engineer', ylabel='Размер компании')\n",
    "plt.title('Таблица сопряженности')\n",
    "plt.show()"
   ]
  },
  {
   "cell_type": "markdown",
   "id": "424519ee",
   "metadata": {},
   "source": [
    "Согласно данным, зависимость наличия должностей от размера компании есть. Чтобы определить, являются ли это статистически значимыми, в следующем разделе мы проведём статистическое тестирование."
   ]
  },
  {
   "cell_type": "markdown",
   "id": "79bdd589",
   "metadata": {},
   "source": [
    "## Промежуточный вывод\n",
    "\n",
    "Согласно графикам, можно сделать вывод, что все оcтавшиеся критерии влияют на зарплату специалиста Data Scientist"
   ]
  },
  {
   "cell_type": "markdown",
   "id": "681e6b01",
   "metadata": {},
   "source": [
    "## Статистический анализ данных"
   ]
  },
  {
   "cell_type": "code",
   "execution_count": 365,
   "id": "d00e5c52",
   "metadata": {},
   "outputs": [],
   "source": [
    "# функция для принятия решения о нормальности\n",
    "def decision_normality(p):\n",
    "    print('p-value = {:.3f}'.format(p))\n",
    "    if p <= alpha:\n",
    "        print('p-значение меньше, чем заданный уровень значимости {:.2f}. Распределение отлично от нормального'.format(alpha))\n",
    "    else:\n",
    "        print('p-значение больше, чем заданный уровень значимости {:.2f}. Распределение является нормальным'.format(alpha))\n",
    "\n",
    "\n",
    "# функция для принятия решения об отклонении нулевой гипотезы\n",
    "def decision_hypothesis(p):\n",
    "    print('p-value = {:.3f}'.format(p))\n",
    "    if p <= alpha:\n",
    "        print('p-значение меньше, чем заданный уровень значимости {:.2f}. Отвергаем нулевую гипотезу в пользу альтернативной.'.format(alpha))\n",
    "    else:\n",
    "        print('p-значение больше, чем заданный уровень значимости {:.2f}. У нас нет оснований отвергнуть нулевую гипотезу.'.format(alpha))\n",
    "      "
   ]
  },
  {
   "cell_type": "markdown",
   "id": "d11ce819",
   "metadata": {},
   "source": [
    "### Наблюдается ли ежегодный рост зарплат у специалистов Data Scientist?\n",
    "\n",
    "**Сформулируем нулевую и альтернативные гипотезы**\n",
    "\n",
    "*Нулевая гипотеза* ($H_0$): размер зарплат в 2020 ($μ_1$) статистически больше либо равен размеру зарплат в 2021 ($μ_2$).\n",
    "\n",
    "$$ H_0 : μ_1 => μ_2$$\n",
    "\n",
    "*Альтернативная гипотеза* ($H_1$): размер зарплат в 2020 ($μ_1$) статистически меньше размеру зарплат в 2021 ($μ_2$).\n",
    "\n",
    "$$ H_1 : μ_1 < μ_2$$\n",
    "\n",
    "Здесь же проверим данное утверждение для следующих двух лет\n",
    "\n",
    "**Сформулируем нулевую и альтернативные гипотезы**\n",
    "\n",
    "*Нулевая гипотеза* ($H_0$): размер зарплат в 2021 ($μ_1$) статистически больше либо равен размеру зарплат в 2022 ($μ_2$).\n",
    "\n",
    "$$ H_0 : μ_1 => μ_2$$\n",
    "\n",
    "*Альтернативная гипотеза* ($H_1$): размер зарплат в 2021 ($μ_1$) статистически меньше размеру зарплат в 2022 ($μ_2$).\n",
    "\n",
    "$$ H_1 : μ_1 < μ_2$$"
   ]
  },
  {
   "cell_type": "code",
   "execution_count": 366,
   "id": "47dbc13f",
   "metadata": {},
   "outputs": [
    {
     "name": "stdout",
     "output_type": "stream",
     "text": [
      "Для 2020:\n",
      "p-value = 0.000\n",
      "p-значение меньше, чем заданный уровень значимости 0.05. Распределение отлично от нормального\n",
      "Для 2021:\n",
      "p-value = 0.107\n",
      "p-значение больше, чем заданный уровень значимости 0.05. Распределение является нормальным\n",
      "Для 2022:\n",
      "p-value = 0.676\n",
      "p-значение больше, чем заданный уровень значимости 0.05. Распределение является нормальным\n"
     ]
    }
   ],
   "source": [
    "df = data[data['job_title']=='Data Scientist']\n",
    "# значения страховых выплат\n",
    "salary_2020 = df.loc[df['work_year']==2020, 'salary_in_usd']\n",
    "salary_2021 = df.loc[df['work_year']==2021, 'salary_in_usd']\n",
    "salary_2022 = df.loc[df['work_year']==2022, 'salary_in_usd']\n",
    "\n",
    "# проводим тест Шапиро-Уилка\n",
    "print('Для 2020:')\n",
    "result = stats.shapiro(salary_2020)\n",
    "decision_normality(result[1])\n",
    "\n",
    "print('Для 2021:')\n",
    "result = stats.shapiro(salary_2021)\n",
    "decision_normality(result[1])\n",
    "\n",
    "print('Для 2022:')\n",
    "result = stats.shapiro(salary_2022)\n",
    "decision_normality(result[1])"
   ]
  },
  {
   "cell_type": "markdown",
   "id": "a6c9e261",
   "metadata": {},
   "source": [
    "**Выберем подходящий статистический тест для 2020 и 2021 годов**\n",
    "\n",
    "Для выбора нужного теста воспользуемся алгоритмом выбора теста. Для этого ответим на следующие вопросы:\n",
    "* Какой тип у признака? — Количественный.\n",
    "* Сколько сравниваемых групп? — Две.\n",
    "* Группы зависимы? — Нет.\n",
    "* Признак распределён по нормальному закону? — Нет.\n",
    "\n",
    "Чтобы проверить нашу гипотезу, можно использовать U-критерий Манна — Уитни.\n",
    "\n",
    "**Проведём тест**"
   ]
  },
  {
   "cell_type": "code",
   "execution_count": 367,
   "id": "79663c7a",
   "metadata": {},
   "outputs": [
    {
     "name": "stdout",
     "output_type": "stream",
     "text": [
      "p-value = 0.705\n",
      "p-значение больше, чем заданный уровень значимости 0.05. У нас нет оснований отвергнуть нулевую гипотезу.\n"
     ]
    }
   ],
   "source": [
    "# проводим тест\n",
    "_, p = stats.mannwhitneyu(salary_2020, salary_2021, alternative='less')\n",
    "decision_hypothesis(p)"
   ]
  },
  {
   "cell_type": "markdown",
   "id": "938ff978",
   "metadata": {},
   "source": [
    "**Выберем подходящий статистический тест для 2020 и 2021 годов**\n",
    "\n",
    "Для выбора нужного теста воспользуемся алгоритмом выбора теста. Для этого ответим на следующие вопросы:\n",
    "* Какой тип у признака? — Количественный.\n",
    "* Сколько сравниваемых групп? — Две.\n",
    "* Группы зависимы? — Нет.\n",
    "* Признак распределён по нормальному закону? — Да.\n",
    "\n",
    "Чтобы проверить нашу гипотезу, можно использовать двухвыборочный t-критерий\n",
    "\n",
    "**Проведём тест**"
   ]
  },
  {
   "cell_type": "code",
   "execution_count": 368,
   "id": "5fc045fa",
   "metadata": {},
   "outputs": [
    {
     "name": "stdout",
     "output_type": "stream",
     "text": [
      "Тест на равенство дисперсий\n",
      "p-value = 0.264\n",
      "Дисперсии одинаковы, в stats.ttest_ind нужно использовать параметр equal_var=True.\n",
      "p-value = 0.000\n",
      "p-значение меньше, чем заданный уровень значимости 0.05. Отвергаем нулевую гипотезу в пользу альтернативной.\n"
     ]
    }
   ],
   "source": [
    "# проводим тест Левена на равенство дисперсий\n",
    "print('Тест на равенство дисперсий')\n",
    "result = stats.levene(salary_2021, salary_2022)\n",
    "p = result[1]\n",
    "print('p-value = {:.3f}'.format(p))\n",
    "\n",
    "# интерпретируем результат\n",
    "if p <= alpha:\n",
    "    print('Дисперсии не одинаковы, в stats.ttest_ind нужно использовать параметр equal_var=False.')\n",
    "else:\n",
    "    print('Дисперсии одинаковы, в stats.ttest_ind нужно использовать параметр equal_var=True.')\n",
    "\n",
    "# проводим тест\n",
    "_, p = stats.ttest_ind(salary_2021, salary_2022, alternative='less', equal_var=True)\n",
    "\n",
    "decision_hypothesis(p)"
   ]
  },
  {
   "cell_type": "markdown",
   "id": "c89ee3a9",
   "metadata": {},
   "source": [
    "## Вывод\n",
    "\n",
    "Исходя из результатов статистических тестов нельзя сказать, что между 2020 и 2021 годом наблюдался рост зарлпта специалистов Data Scintist, при этом между 2021 и 2022 годом согласно результатам теста рост зарплат был."
   ]
  },
  {
   "cell_type": "markdown",
   "id": "a91f5463",
   "metadata": {},
   "source": [
    "### Равны ли зарплаты специалиста Data Scientist с разным опытом работы?\n",
    "\n",
    "**Сформулируем нулевую и альтернативные гипотезы**\n",
    "\n",
    "*Нулевая гипотеза* ($H_0$): размер зарплат Entry-level ($μ_1$) статистически равен размеру зарплат Mid-level ($μ_2$) и статистически равен размеру зарплат Senior-level ($μ_3$).\n",
    "\n",
    "$$ H_0 : μ_1 = μ_2 = μ_3$$\n",
    "\n",
    "*Альтернативная гипотеза* ($H_1$): размер зарплат Entry-level ($μ_1$) статистически не равен размеру зарплат Mid-level ($μ_2$) и статистически не равен размеру зарплат Senior-level ($μ_3$).\n",
    "\n",
    "$$ H_1 : μ_1 \\neq μ_2 \\neq μ_3$$\n"
   ]
  },
  {
   "cell_type": "code",
   "execution_count": 369,
   "id": "486c1c70",
   "metadata": {},
   "outputs": [
    {
     "name": "stdout",
     "output_type": "stream",
     "text": [
      "Для EN :\n",
      "p-value = 0.174\n",
      "p-значение больше, чем заданный уровень значимости 0.05. Распределение является нормальным\n",
      "Для MI :\n",
      "p-value = 0.146\n",
      "p-значение больше, чем заданный уровень значимости 0.05. Распределение является нормальным\n",
      "Для SE :\n",
      "p-value = 0.002\n",
      "p-значение меньше, чем заданный уровень значимости 0.05. Распределение отлично от нормального\n"
     ]
    }
   ],
   "source": [
    "df = data[data['job_title']=='Data Scientist']\n",
    "# значения страховых выплат\n",
    "salary_1 = df.loc[df['experience_level']==1, 'salary_in_usd']\n",
    "salary_2 = df.loc[df['experience_level']==2, 'salary_in_usd']\n",
    "salary_3 = df.loc[df['experience_level']==3, 'salary_in_usd']\n",
    "\n",
    "# проводим тест Шапиро-Уилка\n",
    "print('Для EN :')\n",
    "result = stats.shapiro(salary_1)\n",
    "decision_normality(result[1])\n",
    "\n",
    "print('Для MI :')\n",
    "result = stats.shapiro(salary_2)\n",
    "decision_normality(result[1])\n",
    "\n",
    "print('Для SE :')\n",
    "result = stats.shapiro(salary_3)\n",
    "decision_normality(result[1])"
   ]
  },
  {
   "cell_type": "markdown",
   "id": "fb876649",
   "metadata": {},
   "source": [
    "**Выберем подходящий статистический тест**\n",
    "\n",
    "Для выбора нужного теста воспользуемся алгоритмом выбора теста. Для этого ответим на следующие вопросы:\n",
    "* Какой тип у признака? — Количественный.\n",
    "* Сколько сравниваемых групп? — Три.\n",
    "* Группы зависимы? — Нет.\n",
    "* Признак распределён по нормальному закону? — Нет.\n",
    "\n",
    "Чтобы проверить нашу гипотезу, можно использовать Краскела - Уоллиса.\n",
    "\n",
    "**Проведём тест**"
   ]
  },
  {
   "cell_type": "code",
   "execution_count": 370,
   "id": "6761028c",
   "metadata": {},
   "outputs": [
    {
     "name": "stdout",
     "output_type": "stream",
     "text": [
      "p-value = 0.000\n",
      "p-значение меньше, чем заданный уровень значимости 0.05. Отвергаем нулевую гипотезу в пользу альтернативной.\n"
     ]
    }
   ],
   "source": [
    "# проводим тест\n",
    "_, p = stats.kruskal(salary_1, salary_2, salary_3)\n",
    "decision_hypothesis(p)"
   ]
  },
  {
   "cell_type": "markdown",
   "id": "0fbca99f",
   "metadata": {},
   "source": [
    "## Вывод\n",
    "\n",
    "Исходя из результатов статистических тестов можно сказать, что статистически опыт работы влияет на распределение зарлпат специалиста Data Scietist"
   ]
  },
  {
   "cell_type": "markdown",
   "id": "ddca8aae",
   "metadata": {},
   "source": [
    "### Равны ли зарплаты специалиста Data Scientist и Data Engineer в 2022 году?\n",
    "\n",
    "**Сформулируем нулевую и альтернативные гипотезы**\n",
    "\n",
    "*Нулевая гипотеза* ($H_0$): размер зарплат Data Scientist ($μ_1$) статистически равен размеру зарплат Data Engineer ($μ_2$).\n",
    "\n",
    "$$ H_0 : μ_1 = μ_2$$\n",
    "\n",
    "*Альтернативная гипотеза* ($H_1$): размер зарплат Data Scientist ($μ_1$) статистически не равен размеру зарплат Data Engineer ($μ_2$).\n",
    "\n",
    "$$ H_1 : μ_1 \\neq μ_2$$\n"
   ]
  },
  {
   "cell_type": "code",
   "execution_count": 371,
   "id": "5d14de02",
   "metadata": {},
   "outputs": [
    {
     "name": "stdout",
     "output_type": "stream",
     "text": [
      "Для Data Scientist :\n",
      "p-value = 0.676\n",
      "p-значение больше, чем заданный уровень значимости 0.05. Распределение является нормальным\n",
      "Для Data Engineer :\n",
      "p-value = 0.007\n",
      "p-значение меньше, чем заданный уровень значимости 0.05. Распределение отлично от нормального\n"
     ]
    }
   ],
   "source": [
    "df = data[data['job_title'].isin(['Data Scientist', 'Data Engineer'])]\n",
    "df = df[df['work_year'] == 2022]\n",
    "# значения страховых выплат\n",
    "salary_1 = df.loc[df['job_title']=='Data Scientist', 'salary_in_usd']\n",
    "salary_2 = df.loc[df['job_title']=='Data Engineer', 'salary_in_usd']\n",
    "\n",
    "# проводим тест Шапиро-Уилка\n",
    "print('Для Data Scientist :')\n",
    "result = stats.shapiro(salary_1)\n",
    "decision_normality(result[1])\n",
    "\n",
    "print('Для Data Engineer :')\n",
    "result = stats.shapiro(salary_2)\n",
    "decision_normality(result[1])\n"
   ]
  },
  {
   "cell_type": "markdown",
   "id": "1537609c",
   "metadata": {},
   "source": [
    "**Выберем подходящий статистический тест**\n",
    "\n",
    "Для выбора нужного теста воспользуемся алгоритмом выбора теста. Для этого ответим на следующие вопросы:\n",
    "* Какой тип у признака? — Количественный.\n",
    "* Сколько сравниваемых групп? — Две.\n",
    "* Группы зависимы? — Нет.\n",
    "* Признак распределён по нормальному закону? — Нет.\n",
    "\n",
    "Чтобы проверить нашу гипотезу, можно использовать U-критерий Манна — Уитни.\n",
    "\n",
    "**Проведём тест**"
   ]
  },
  {
   "cell_type": "code",
   "execution_count": 372,
   "id": "2b8716b2",
   "metadata": {},
   "outputs": [
    {
     "name": "stdout",
     "output_type": "stream",
     "text": [
      "p-value = 0.319\n",
      "p-значение больше, чем заданный уровень значимости 0.05. У нас нет оснований отвергнуть нулевую гипотезу.\n"
     ]
    }
   ],
   "source": [
    "# проводим тест\n",
    "_, p = stats.mannwhitneyu(salary_1, salary_2, alternative = 'two-sided')\n",
    "decision_hypothesis(p)"
   ]
  },
  {
   "cell_type": "markdown",
   "id": "e4322752",
   "metadata": {},
   "source": [
    "## Вывод\n",
    "\n",
    "Исходя из результатов статистических тестов нельзя сказать, что статистически распределение зарплаты специалиста Data Scietist отличается от зарплаты Data Engineer"
   ]
  },
  {
   "cell_type": "markdown",
   "id": "78ea242e",
   "metadata": {},
   "source": [
    "### Равны ли зарплаты специалиста Data Scientist в зависимости от количества удаленной работы?\n",
    "\n",
    "**Сформулируем нулевую и альтернативные гипотезы**\n",
    "\n",
    "*Нулевая гипотеза* ($H_0$): размер зарплат Data Scientist при 0 удаленной работы ($μ_1$) статистически равен размеру зарплат при 50% удаленной работе ($μ_2$) и статистически равен размеру зарплат при 100% удаленной работе ($μ_3$).\n",
    "\n",
    "$$ H_0 : μ_1 = μ_2 = μ_3$$\n",
    "\n",
    "*Альтернативная гипотеза* ($H_1$): размер зарплат Data Scientist при 0 удаленной работы ($μ_1$) статистически не равен размеру зарплат при 50% удаленной работе ($μ_2$) и статистически не равен размеру зарплат при 100% удаленной работе ($μ_3$).\n",
    "\n",
    "$$ H_1 : μ_1 \\neq μ_2 \\neq μ_3$$\n"
   ]
  },
  {
   "cell_type": "code",
   "execution_count": 373,
   "id": "202c15ad",
   "metadata": {},
   "outputs": [
    {
     "name": "stdout",
     "output_type": "stream",
     "text": [
      "Для 0 :\n",
      "p-value = 0.331\n",
      "p-значение больше, чем заданный уровень значимости 0.05. Распределение является нормальным\n",
      "Для 50 :\n",
      "p-value = 0.387\n",
      "p-значение больше, чем заданный уровень значимости 0.05. Распределение является нормальным\n",
      "Для 100 :\n",
      "p-value = 0.001\n",
      "p-значение меньше, чем заданный уровень значимости 0.05. Распределение отлично от нормального\n"
     ]
    }
   ],
   "source": [
    "df = data[data['job_title']=='Data Scientist']\n",
    "# значения страховых выплат\n",
    "salary_1 = df.loc[df['remote_ratio']==1, 'salary_in_usd']\n",
    "salary_2 = df.loc[df['remote_ratio']==2, 'salary_in_usd']\n",
    "salary_3 = df.loc[df['remote_ratio']==3, 'salary_in_usd']\n",
    "\n",
    "# проводим тест Шапиро-Уилка\n",
    "print('Для 0 :')\n",
    "result = stats.shapiro(salary_1)\n",
    "decision_normality(result[1])\n",
    "\n",
    "print('Для 50 :')\n",
    "result = stats.shapiro(salary_2)\n",
    "decision_normality(result[1])\n",
    "\n",
    "print('Для 100 :')\n",
    "result = stats.shapiro(salary_3)\n",
    "decision_normality(result[1])"
   ]
  },
  {
   "cell_type": "markdown",
   "id": "b0db4a15",
   "metadata": {},
   "source": [
    "**Выберем подходящий статистический тест**\n",
    "\n",
    "Для выбора нужного теста воспользуемся алгоритмом выбора теста. Для этого ответим на следующие вопросы:\n",
    "* Какой тип у признака? — Количественный.\n",
    "* Сколько сравниваемых групп? — Три.\n",
    "* Группы зависимы? — Нет.\n",
    "* Признак распределён по нормальному закону? — Нет.\n",
    "\n",
    "Чтобы проверить нашу гипотезу, можно использовать Краскела - Уоллиса.\n",
    "\n",
    "**Проведём тест**"
   ]
  },
  {
   "cell_type": "code",
   "execution_count": 374,
   "id": "2fb1c373",
   "metadata": {},
   "outputs": [
    {
     "name": "stdout",
     "output_type": "stream",
     "text": [
      "p-value = 0.020\n",
      "p-значение меньше, чем заданный уровень значимости 0.05. Отвергаем нулевую гипотезу в пользу альтернативной.\n"
     ]
    }
   ],
   "source": [
    "# проводим тест\n",
    "_, p = stats.kruskal(salary_1, salary_2, salary_3)\n",
    "decision_hypothesis(p)"
   ]
  },
  {
   "cell_type": "markdown",
   "id": "1530b08c",
   "metadata": {},
   "source": [
    "## Вывод\n",
    "\n",
    "Исходя из результатов статистических тестов можно сказать, что статистически на распределение зарплаты специалиста Data Scietist влияет количество удаленной работы"
   ]
  },
  {
   "cell_type": "markdown",
   "id": "cafcffea",
   "metadata": {},
   "source": [
    "### Равны ли зарплаты специалиста Data Scientist в зависимости от размера компании?\n",
    "\n",
    "**Сформулируем нулевую и альтернативные гипотезы**\n",
    "\n",
    "*Нулевая гипотеза* ($H_0$): размер зарплат Data Scientist в малой компании ($μ_1$) статистически равен размеру зарплат  в средней компании ($μ_2$) и статистически равен размеру зарплат в большой компании ($μ_3$).\n",
    "\n",
    "$$ H_0 : μ_1 = μ_2 = μ_3$$\n",
    "\n",
    "*Альтернативная гипотеза* ($H_1$): размер зарплат Data Scientist в малой компании ($μ_1$) статистически не равен размеру зарплат в средней компании ($μ_2$) и статистически не равен размеру зарплат в большой компании ($μ_3$).\n",
    "\n",
    "\n",
    "$$ H_1 : μ_1 \\neq μ_2 \\neq μ_3$$"
   ]
  },
  {
   "cell_type": "code",
   "execution_count": 375,
   "id": "2b77d4ae",
   "metadata": {},
   "outputs": [
    {
     "name": "stdout",
     "output_type": "stream",
     "text": [
      "Для S:\n",
      "p-value = 0.189\n",
      "p-значение больше, чем заданный уровень значимости 0.05. Распределение является нормальным\n",
      "Для M:\n",
      "p-value = 0.897\n",
      "p-значение больше, чем заданный уровень значимости 0.05. Распределение является нормальным\n",
      "Для L:\n",
      "p-value = 0.000\n",
      "p-значение меньше, чем заданный уровень значимости 0.05. Распределение отлично от нормального\n"
     ]
    }
   ],
   "source": [
    "df = data[data['job_title']=='Data Scientist']\n",
    "# значения страховых выплат\n",
    "salary_1 = df.loc[df['company_size']==1, 'salary_in_usd']\n",
    "salary_2 = df.loc[df['company_size']==2, 'salary_in_usd']\n",
    "salary_3 = df.loc[df['company_size']==3, 'salary_in_usd']\n",
    "\n",
    "# проводим тест Шапиро-Уилка\n",
    "print('Для S:')\n",
    "result = stats.shapiro(salary_1)\n",
    "decision_normality(result[1])\n",
    "\n",
    "print('Для M:')\n",
    "result = stats.shapiro(salary_2)\n",
    "decision_normality(result[1])\n",
    "\n",
    "print('Для L:')\n",
    "result = stats.shapiro(salary_3)\n",
    "decision_normality(result[1])"
   ]
  },
  {
   "cell_type": "markdown",
   "id": "e7e4f45e",
   "metadata": {},
   "source": [
    "**Выберем подходящий статистический тест**\n",
    "\n",
    "Для выбора нужного теста воспользуемся алгоритмом выбора теста. Для этого ответим на следующие вопросы:\n",
    "* Какой тип у признака? — Количественный.\n",
    "* Сколько сравниваемых групп? — Три.\n",
    "* Группы зависимы? — Нет.\n",
    "* Признак распределён по нормальному закону? — Нет.\n",
    "\n",
    "Чтобы проверить нашу гипотезу, можно использовать Краскела - Уоллиса.\n",
    "\n",
    "**Проведём тест**"
   ]
  },
  {
   "cell_type": "code",
   "execution_count": 376,
   "id": "58f3bb3f",
   "metadata": {},
   "outputs": [
    {
     "name": "stdout",
     "output_type": "stream",
     "text": [
      "p-value = 0.000\n",
      "p-значение меньше, чем заданный уровень значимости 0.05. Отвергаем нулевую гипотезу в пользу альтернативной.\n"
     ]
    }
   ],
   "source": [
    "# проводим тест\n",
    "_, p = stats.kruskal(salary_1, salary_2, salary_3)\n",
    "decision_hypothesis(p)"
   ]
  },
  {
   "cell_type": "markdown",
   "id": "c05c4f35",
   "metadata": {},
   "source": [
    "## Вывод\n",
    "\n",
    "Исходя из результатов статистических тестов можно сказать, что статистически на распределение зарплаты специалиста Data Scietist влияет размер фирмы"
   ]
  },
  {
   "cell_type": "markdown",
   "id": "9a856e4d",
   "metadata": {},
   "source": [
    "### Влияет ли признак наличия специалиста Data Scintist или Data Engineer на размер компании\n",
    "\n",
    "**Сформулируем нулевую и альтернативные гипотезы**\n",
    "\n",
    "*Нулевая гипотеза* ($H_0$): признак наличия специалиста Data Scintist или Data Engineer не влияет на размер компании\n",
    "\n",
    "*Альтернативная гипотеза* ($H_1$): признак наличия пециалиста Data Scintist или Data Engineer влияет на размер компании\n"
   ]
  },
  {
   "cell_type": "markdown",
   "id": "329e98c7",
   "metadata": {},
   "source": [
    "**Выберем подходящий статистический тест**\n",
    "\n",
    "Для выбора нужного теста воспользуемся алгоритмом выбора теста. Для этого ответим на следующие вопросы:\n",
    "* Какой тип у признака «аличие специалиста»? — Категориальный.\n",
    "* Сколько сравниваемых групп? — Две.\n",
    "* Проверяется независимость групп? — Да.\n",
    "\n",
    "Для проверки нашей гипотезы можно использовать критерий ${\\chi}^2$ (хи-квадрат).\n",
    "\n",
    "**Проведём тест**"
   ]
  },
  {
   "cell_type": "code",
   "execution_count": 377,
   "id": "c86f054e",
   "metadata": {},
   "outputs": [
    {
     "name": "stdout",
     "output_type": "stream",
     "text": [
      "p-value = 0.005\n",
      "p-значение меньше, чем заданный уровень значимости 0.05. Отвергаем нулевую гипотезу в пользу альтернативной.\n"
     ]
    }
   ],
   "source": [
    "df = data.copy()\n",
    "df['data sci or eng'] = df['job_title'].apply(lambda x : 1 if x=='Data Scientist' or x=='Data Engineer' else 0)\n",
    "\n",
    "cross_tab = pd.crosstab(index=df['company_size'], columns=df['data sci or eng'])\n",
    "# проводим тест\n",
    "_, p, _, _ = stats.chi2_contingency(cross_tab)\n",
    "decision_hypothesis(p)"
   ]
  },
  {
   "cell_type": "markdown",
   "id": "25e76df0",
   "metadata": {},
   "source": [
    "## Вывод\n",
    "\n",
    "Исходя из результатов статистических тестов можно сказать, что статистически на размер фирмы влияет наличие должностей Data Scientist и Data Engineer"
   ]
  },
  {
   "cell_type": "markdown",
   "id": "f6c16dcb",
   "metadata": {},
   "source": [
    "### Действительно ли средняя зарплата составляет 110610?\n",
    "\n",
    "**Сформулируем нулевую и альтернативные гипотезы**\n",
    "\n",
    "*Нулевая гипотеза* ($H_0$): медиана зарплат ($μ_1$) статистически равна 100000.00.\n",
    "\n",
    "$$ H_0 : μ_1 = 100000.00$$\n",
    "\n",
    "*Альтернативная гипотеза* ($H_1$): медиана зарплат ($μ_1$) статистически не равна 100000.00.\n",
    "\n",
    "$$ H_1 : μ_1 \\neq 100000.00$$\n"
   ]
  },
  {
   "cell_type": "code",
   "execution_count": 378,
   "id": "c11eabe1",
   "metadata": {},
   "outputs": [
    {
     "name": "stdout",
     "output_type": "stream",
     "text": [
      "p-value = 0.000\n",
      "p-значение меньше, чем заданный уровень значимости 0.05. Распределение отлично от нормального\n"
     ]
    }
   ],
   "source": [
    "# проводим тест Шапиро — Уилка\n",
    "result = stats.shapiro(data['salary_in_usd'])\n",
    "decision_normality(result[1])"
   ]
  },
  {
   "cell_type": "markdown",
   "id": "ac58b95c",
   "metadata": {},
   "source": [
    "**Выберем подходящий статистический тест**\n",
    "\n",
    "Для выбора нужного теста воспользуемся алгоритмом выбора теста. Для этого ответим на следующие вопросы:\n",
    "* Какой тип у признака salary_in_usd? — Количественный.\n",
    "* Сколько сравниваемых групп? — Одна.\n",
    "* Распределен нормально? — Нет.\n",
    "\n",
    "Для проверки нашей гипотезы можно использовать критерий знаков(для одной выборки)\n",
    "\n",
    "**Проведём тест**"
   ]
  },
  {
   "cell_type": "code",
   "execution_count": 379,
   "id": "b95e914b",
   "metadata": {},
   "outputs": [
    {
     "name": "stdout",
     "output_type": "stream",
     "text": [
      "p-value = 0.966\n",
      "p-значение больше, чем заданный уровень значимости 0.05. У нас нет оснований отвергнуть нулевую гипотезу.\n"
     ]
    }
   ],
   "source": [
    "# проводим тест\n",
    "_, p = sign_test(data['salary_in_usd'], 100000.00)\n",
    "decision_hypothesis(p)"
   ]
  },
  {
   "cell_type": "markdown",
   "id": "9711c8fc",
   "metadata": {},
   "source": [
    "## Вывод\n",
    "\n",
    "Исходя из результатов статистических тестов можно сказать, что медиана зарплат составляет 100 000 долларов"
   ]
  },
  {
   "cell_type": "markdown",
   "id": "31d25463",
   "metadata": {},
   "source": [
    "## Итоговые результаты исследования\n",
    "\n",
    "*   Ежегодного прироста зарплат у специалистов Data Scientist нет, хотя и наблюдается рост между 2021 и 2022 годами\n",
    "*   Опыт работы влияет на распределение зарплат у специалистов Data Scientist\n",
    "*   В 2022 году зарплаты Data Scientist и Data Engineer статистически равны\n",
    "*   Количество удаленной работы влияет на распределение зарплаты Data Scientist\n",
    "*   Размер фирмы влияет на зарплату Data Scientist\n",
    "*   На размер компании влияет наличиие должностей Data Scientist и Data Engineer\n",
    "*   Медианная зарплата всей изученной базы данных является зарплата в 100 000 долларов"
   ]
  }
 ],
 "metadata": {
  "kernelspec": {
   "display_name": "Python 3",
   "language": "python",
   "name": "python3"
  },
  "language_info": {
   "codemirror_mode": {
    "name": "ipython",
    "version": 3
   },
   "file_extension": ".py",
   "mimetype": "text/x-python",
   "name": "python",
   "nbconvert_exporter": "python",
   "pygments_lexer": "ipython3",
   "version": "3.12.4"
  }
 },
 "nbformat": 4,
 "nbformat_minor": 5
}
